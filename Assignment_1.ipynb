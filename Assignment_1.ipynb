{
 "cells": [
  {
   "cell_type": "markdown",
   "id": "1453ba5c",
   "metadata": {
    "id": "uu8_CD65DVBv"
   },
   "source": [
    "- Viswatej Seela - VS26276\n",
    "- Rochan - RRN479\n",
    "- Kshitij -KSM3267\n",
    "- Ankit - AM223225\n",
    "- Krish - KE7466"
   ]
  },
  {
   "cell_type": "markdown",
   "id": "5b3fbb05",
   "metadata": {
    "id": "LMVRWFXW2_xz"
   },
   "source": [
    "- URL - \"https://forums.edmunds.com/discussion/2864/general/x/entry-level-luxury-performance-sedans\"\n"
   ]
  },
  {
   "cell_type": "code",
   "execution_count": 99,
   "id": "72d61f3f",
   "metadata": {
    "ExecuteTime": {
     "end_time": "2022-09-13T02:48:59.311435Z",
     "start_time": "2022-09-13T02:48:59.303433Z"
    }
   },
   "outputs": [],
   "source": [
    "# !pip install selenium\n",
    "# !apt-get -q update   \n",
    "# !apt install -yq chromium-chromedriver \n",
    "# !cp /usr/lib/chromium-browser/chromedriver /usr/bin\n",
    "## if you are a mac user then you need to download the latest chromedriver and then move it to the /usr/lib and then run your scripts below\n"
   ]
  },
  {
   "cell_type": "code",
   "execution_count": 100,
   "id": "ea649527",
   "metadata": {
    "ExecuteTime": {
     "end_time": "2022-09-13T02:48:59.561870Z",
     "start_time": "2022-09-13T02:48:59.315363Z"
    }
   },
   "outputs": [
    {
     "name": "stderr",
     "output_type": "stream",
     "text": [
      "[nltk_data] Downloading package punkt to /Users/viswatej/nltk_data...\n",
      "[nltk_data]   Package punkt is already up-to-date!\n",
      "[nltk_data] Downloading package stopwords to\n",
      "[nltk_data]     /Users/viswatej/nltk_data...\n",
      "[nltk_data]   Package stopwords is already up-to-date!\n"
     ]
    }
   ],
   "source": [
    "from selenium import webdriver\n",
    "from selenium.webdriver.common.keys import Keys\n",
    "from bs4 import BeautifulSoup\n",
    "import re\n",
    "import pandas as pd\n",
    "import os\n",
    "import seaborn as sns\n",
    "from selenium import webdriver \n",
    "import sys\n",
    "import pandas as pd\n",
    "import nltk\n",
    "nltk.download('punkt')\n",
    "nltk.download('stopwords')\n",
    "from nltk import word_tokenize\n",
    "from nltk.corpus import stopwords\n",
    "import string\n",
    "from matplotlib import pyplot as plt\n",
    "import io\n",
    "from collections import Counter\n",
    "import numpy as np\n",
    "from nltk.corpus import wordnet\n",
    "from scipy.stats import rankdata\n",
    "from sklearn.linear_model import LinearRegression\n",
    "\n",
    "\n"
   ]
  },
  {
   "cell_type": "code",
   "execution_count": 101,
   "id": "f2453d73",
   "metadata": {
    "ExecuteTime": {
     "end_time": "2022-09-13T02:48:59.567059Z",
     "start_time": "2022-09-13T02:48:59.562995Z"
    }
   },
   "outputs": [],
   "source": [
    "def split_words(messages_column):\n",
    "    corpus = \"\"\n",
    "    for words in messages_column:\n",
    "        corpus += words\n",
    "    return corpus\n",
    "\n",
    "\n",
    "def model_to_brand(s):\n",
    "    for i in brand_df.index.values:\n",
    "        s = s.replace(brand_df[\"model\"][i].lower(),brand_df[\"brand\"][i].lower())\n",
    "    return s\n",
    "\n",
    "def zipf_frequency(most_common_count, n=100):\n",
    "    zipf_law = []\n",
    "    for x in range(1, n+1):\n",
    "        zipf_law.append(most_common_count/(x))\n",
    "    return zipf_law\n",
    "\n",
    "\n",
    "def remove_stopwords(s):\n",
    "    return [i for i in s if not i in stop_words] \n",
    "\n",
    "def aspiration_words(x):\n",
    "    for i in aspiration_list:\n",
    "        x = x.replace(i,'aspiration')\n",
    "    return x\n",
    "\n"
   ]
  },
  {
   "cell_type": "code",
   "execution_count": 102,
   "id": "8c14cf84",
   "metadata": {
    "ExecuteTime": {
     "end_time": "2022-09-13T02:48:59.570536Z",
     "start_time": "2022-09-13T02:48:59.568156Z"
    }
   },
   "outputs": [],
   "source": [
    "sys.path.insert(0,'/usr/local/bin/chromedriver')\n",
    "chrome_options = webdriver.ChromeOptions()\n",
    "chrome_options.add_argument('--headless')\n",
    "chrome_options.add_argument('--no-sandbox')\n",
    "chrome_options.add_argument('--disable-dev-shm-usage')"
   ]
  },
  {
   "cell_type": "code",
   "execution_count": 103,
   "id": "790f752b",
   "metadata": {
    "ExecuteTime": {
     "end_time": "2022-09-13T02:48:59.574045Z",
     "start_time": "2022-09-13T02:48:59.572548Z"
    }
   },
   "outputs": [],
   "source": [
    "# wd = webdriver.Chrome('chromedriver',options=chrome_options) # This will open up a chrome window\n",
    "# url = \"https://forums.edmunds.com/discussion/2864/general/x/entry-level-luxury-performance-sedans\"\n",
    "# wd.get(url)  # Open that website"
   ]
  },
  {
   "cell_type": "code",
   "execution_count": 104,
   "id": "05f94240",
   "metadata": {
    "ExecuteTime": {
     "end_time": "2022-09-13T02:48:59.577063Z",
     "start_time": "2022-09-13T02:48:59.575193Z"
    }
   },
   "outputs": [],
   "source": [
    "# scrapped = pd.DataFrame(columns = ['Date', 'scrapped']) \n",
    "# #considering the latest tweets \n",
    "# for p in range(334,435):\n",
    "#     page_url = \"https://forums.edmunds.com/discussion/2864/general/x/entry-level-luxury-performance-sedans/p\" + str(p)\n",
    "#     wd.get(page_url)\n",
    "\n",
    "#     ids = wd.find_elements(\"xpath\",\"//*[contains(@id,'Comment_')]\")\n",
    "\n",
    "#     comment_ids = []\n",
    "#     for i in ids:\n",
    "#         comment_ids.append(i.get_attribute('id'))\n",
    "\n",
    "#     for x in comment_ids:\n",
    "#         user_date = wd.find_elements(\"xpath\",'//*[@id=\"' + x +'\"]/div/div[2]/div[2]/span[1]/a/time')[0]\n",
    "#         date = user_date.get_attribute('title')\n",
    "\n",
    "#         user_message = wd.find_elements(\"xpath\",'//*[@id=\"' + x +'\"]/div/div[3]/div/div[1]')[0]\n",
    "#         comment = user_message.text\n",
    "\n",
    "#         scrapped.loc[len(scrapped)] = [date, comment]\n"
   ]
  },
  {
   "cell_type": "code",
   "execution_count": 105,
   "id": "86479334",
   "metadata": {
    "ExecuteTime": {
     "end_time": "2022-09-13T02:48:59.579654Z",
     "start_time": "2022-09-13T02:48:59.578151Z"
    }
   },
   "outputs": [],
   "source": [
    "# scrapped1=scrapped.copy()\n",
    "# scrapped1['scrapped']"
   ]
  },
  {
   "cell_type": "code",
   "execution_count": 106,
   "id": "0f536d31",
   "metadata": {
    "ExecuteTime": {
     "end_time": "2022-09-13T02:48:59.582356Z",
     "start_time": "2022-09-13T02:48:59.580706Z"
    }
   },
   "outputs": [],
   "source": [
    "# scrapped1[\"scrapped\"] = scrapped1[\"scrapped\"].str.replace(r'^.*@\\w*\\n|^.*: | ^.*\\n\\w*\\n', '')\n",
    "# scrapped1[\"scrapped\"] = scrapped1[\"scrapped\"].str.replace(r'^.*\\n\\w*\\n|^.*\\n*@\\w* :', '')\n",
    "# scrapped1[\"scrapped\"] = scrapped1[\"scrapped\"].str.replace(r'^.*:', '')\n",
    "# scrapped1\n"
   ]
  },
  {
   "cell_type": "code",
   "execution_count": 107,
   "id": "8e89bd20",
   "metadata": {
    "ExecuteTime": {
     "end_time": "2022-09-13T02:48:59.585748Z",
     "start_time": "2022-09-13T02:48:59.583704Z"
    }
   },
   "outputs": [],
   "source": [
    "# scrapped1.tail(5000).to_csv('webscraped.csv')"
   ]
  },
  {
   "cell_type": "markdown",
   "id": "cd13f49f",
   "metadata": {
    "ExecuteTime": {
     "end_time": "2022-08-29T21:04:51.097805Z",
     "start_time": "2022-08-29T21:04:51.021184Z"
    }
   },
   "source": [
    "#### Task A: \n",
    "- Once you fetch the data, test if the data support Zipf’s law econometrically. Also plot the most  common 100 words in the data against the theoretical prediction of the law. For this question, do not remove stopwords. Also do not perform stemming or lemmatization. "
   ]
  },
  {
   "cell_type": "code",
   "execution_count": 108,
   "id": "eefc4bc8",
   "metadata": {
    "ExecuteTime": {
     "end_time": "2022-09-13T02:48:59.657378Z",
     "start_time": "2022-09-13T02:48:59.586961Z"
    }
   },
   "outputs": [
    {
     "data": {
      "text/plain": [
       "(5000, 2)"
      ]
     },
     "execution_count": 108,
     "metadata": {},
     "output_type": "execute_result"
    }
   ],
   "source": [
    "webscraped_df = pd.read_csv('webscraped.csv')\n",
    "webscraped_df.drop(columns = 'Unnamed: 0', inplace = True)\n",
    "webscraped_df.shape"
   ]
  },
  {
   "cell_type": "code",
   "execution_count": 109,
   "id": "c577f245",
   "metadata": {
    "ExecuteTime": {
     "end_time": "2022-09-13T02:48:59.741168Z",
     "start_time": "2022-09-13T02:48:59.658492Z"
    }
   },
   "outputs": [],
   "source": [
    "webscraped_df['scrapped'] = webscraped_df['scrapped'].astype(str)\n",
    "webscraped_df['scrapped'] = webscraped_df['scrapped'].apply(lambda x :x.translate(str.maketrans('', '', string.punctuation)))\n",
    "webscraped_df['scrapped'] = webscraped_df['scrapped'].apply(lambda x :x.lower())\n",
    "webscraped_df['scrapped']=webscraped_df['scrapped'].apply(lambda e : re.sub(r'[^\\w\\s]','',str(e)).replace('\\n',' ') )"
   ]
  },
  {
   "cell_type": "code",
   "execution_count": 110,
   "id": "f80bba70",
   "metadata": {
    "ExecuteTime": {
     "end_time": "2022-09-13T02:48:59.748758Z",
     "start_time": "2022-09-13T02:48:59.742159Z"
    }
   },
   "outputs": [
    {
     "data": {
      "text/html": [
       "<div>\n",
       "<style scoped>\n",
       "    .dataframe tbody tr th:only-of-type {\n",
       "        vertical-align: middle;\n",
       "    }\n",
       "\n",
       "    .dataframe tbody tr th {\n",
       "        vertical-align: top;\n",
       "    }\n",
       "\n",
       "    .dataframe thead th {\n",
       "        text-align: right;\n",
       "    }\n",
       "</style>\n",
       "<table border=\"1\" class=\"dataframe\">\n",
       "  <thead>\n",
       "    <tr style=\"text-align: right;\">\n",
       "      <th></th>\n",
       "      <th>Date</th>\n",
       "      <th>scrapped</th>\n",
       "    </tr>\n",
       "  </thead>\n",
       "  <tbody>\n",
       "    <tr>\n",
       "      <th>0</th>\n",
       "      <td>February 25, 2014 6:50PM</td>\n",
       "      <td>you hit the nail on the head you budget for re...</td>\n",
       "    </tr>\n",
       "    <tr>\n",
       "      <th>1</th>\n",
       "      <td>February 25, 2014 7:09PM</td>\n",
       "      <td>now that i have inherited my acura tl back a 2...</td>\n",
       "    </tr>\n",
       "    <tr>\n",
       "      <th>2</th>\n",
       "      <td>February 25, 2014 7:25PM</td>\n",
       "      <td>even with the coil packs you had to replace it...</td>\n",
       "    </tr>\n",
       "    <tr>\n",
       "      <th>3</th>\n",
       "      <td>February 26, 2014 10:59AM</td>\n",
       "      <td>exactly you have to evaluate all your options ...</td>\n",
       "    </tr>\n",
       "    <tr>\n",
       "      <th>4</th>\n",
       "      <td>February 26, 2014 11:14AM</td>\n",
       "      <td>exactly you have to evaluate all your options ...</td>\n",
       "    </tr>\n",
       "    <tr>\n",
       "      <th>...</th>\n",
       "      <td>...</td>\n",
       "      <td>...</td>\n",
       "    </tr>\n",
       "    <tr>\n",
       "      <th>4995</th>\n",
       "      <td>February 25, 2020 11:42AM</td>\n",
       "      <td>but the only toyotalexus car i would seriousl...</td>\n",
       "    </tr>\n",
       "    <tr>\n",
       "      <th>4996</th>\n",
       "      <td>February 25, 2020 11:55AM</td>\n",
       "      <td>btw i looked into incentives on stinger up to ...</td>\n",
       "    </tr>\n",
       "    <tr>\n",
       "      <th>4997</th>\n",
       "      <td>February 25, 2020 11:58AM</td>\n",
       "      <td>btw i looked into incentives on stinger up to...</td>\n",
       "    </tr>\n",
       "    <tr>\n",
       "      <th>4998</th>\n",
       "      <td>February 25, 2020 12:30PM</td>\n",
       "      <td>show previous quotes 12200 lease cash for 24 ...</td>\n",
       "    </tr>\n",
       "    <tr>\n",
       "      <th>4999</th>\n",
       "      <td>February 25, 2020 12:30PM</td>\n",
       "      <td>wow</td>\n",
       "    </tr>\n",
       "  </tbody>\n",
       "</table>\n",
       "<p>5000 rows × 2 columns</p>\n",
       "</div>"
      ],
      "text/plain": [
       "                           Date  \\\n",
       "0      February 25, 2014 6:50PM   \n",
       "1      February 25, 2014 7:09PM   \n",
       "2      February 25, 2014 7:25PM   \n",
       "3     February 26, 2014 10:59AM   \n",
       "4     February 26, 2014 11:14AM   \n",
       "...                         ...   \n",
       "4995  February 25, 2020 11:42AM   \n",
       "4996  February 25, 2020 11:55AM   \n",
       "4997  February 25, 2020 11:58AM   \n",
       "4998  February 25, 2020 12:30PM   \n",
       "4999  February 25, 2020 12:30PM   \n",
       "\n",
       "                                               scrapped  \n",
       "0     you hit the nail on the head you budget for re...  \n",
       "1     now that i have inherited my acura tl back a 2...  \n",
       "2     even with the coil packs you had to replace it...  \n",
       "3     exactly you have to evaluate all your options ...  \n",
       "4     exactly you have to evaluate all your options ...  \n",
       "...                                                 ...  \n",
       "4995   but the only toyotalexus car i would seriousl...  \n",
       "4996  btw i looked into incentives on stinger up to ...  \n",
       "4997   btw i looked into incentives on stinger up to...  \n",
       "4998   show previous quotes 12200 lease cash for 24 ...  \n",
       "4999                                                wow  \n",
       "\n",
       "[5000 rows x 2 columns]"
      ]
     },
     "execution_count": 110,
     "metadata": {},
     "output_type": "execute_result"
    }
   ],
   "source": [
    "webscraped_df"
   ]
  },
  {
   "cell_type": "code",
   "execution_count": 111,
   "id": "00df8a12",
   "metadata": {
    "ExecuteTime": {
     "end_time": "2022-09-13T02:49:00.970596Z",
     "start_time": "2022-09-13T02:48:59.750455Z"
    }
   },
   "outputs": [],
   "source": [
    "corpus = split_words(webscraped_df['scrapped']).lower()\n",
    "\n",
    "#tokenization\n",
    "tokens = nltk.word_tokenize(corpus)\n",
    "\n",
    "word_frequencies =Counter(tokens)"
   ]
  },
  {
   "cell_type": "code",
   "execution_count": 112,
   "id": "dfc110ed",
   "metadata": {
    "ExecuteTime": {
     "end_time": "2022-09-13T02:49:01.137581Z",
     "start_time": "2022-09-13T02:49:00.975417Z"
    },
    "scrolled": false
   },
   "outputs": [
    {
     "data": {
      "text/plain": [
       "Text(0, 0.5, 'Frequency of a Word')"
      ]
     },
     "execution_count": 112,
     "metadata": {},
     "output_type": "execute_result"
    },
    {
     "data": {
      "image/png": "[encoded data removed]",
      "text/plain": [
       "<Figure size 1440x576 with 1 Axes>"
      ]
     },
     "metadata": {
      "needs_background": "light"
     },
     "output_type": "display_data"
    }
   ],
   "source": [
    "most_used_100={i:j for i,j in sorted(word_frequencies.items(), key=lambda d:d[1],reverse=True)}\n",
    "pd.Series(most_used_100).reset_index().head(100).plot(kind='line',figsize=(20,8),xlabel='Rank',ylabel='Frequency')\n",
    "plt.title('Zipf\\'s Law: Frequency Vs. Rank of Top 100 most Frequent Words')\n",
    "plt.xlabel('Rank of a Word')\n",
    "plt.ylabel('Frequency of a Word')"
   ]
  },
  {
   "cell_type": "code",
   "execution_count": 113,
   "id": "a56c2778",
   "metadata": {
    "ExecuteTime": {
     "end_time": "2022-09-13T02:49:01.405465Z",
     "start_time": "2022-09-13T02:49:01.138964Z"
    },
    "colab": {
     "base_uri": "https://localhost:8080/"
    },
    "id": "OVue4xYynV_x",
    "outputId": "fb49c730-7740-4823-eaff-8675db4faaa5"
   },
   "outputs": [],
   "source": [
    "\n",
    "word_ct_synonyms=[(k,v,len(wordnet.synsets(k))) for k,v in word_frequencies.items()]\n",
    "\n",
    "\n",
    "df_wrd=pd.DataFrame(word_ct_synonyms)\n",
    "df_wrd.columns=['word','count','synonms_count']"
   ]
  },
  {
   "cell_type": "code",
   "execution_count": 114,
   "id": "afd83219",
   "metadata": {
    "ExecuteTime": {
     "end_time": "2022-09-13T02:49:01.415468Z",
     "start_time": "2022-09-13T02:49:01.406473Z"
    },
    "id": "a0juAZhAcL1w"
   },
   "outputs": [],
   "source": [
    "df_wrd[['count_rank','synonms_rank']]=df_wrd[['count','synonms_count']].rank(ascending=False)"
   ]
  },
  {
   "cell_type": "code",
   "execution_count": 115,
   "id": "6bac8ec3",
   "metadata": {
    "ExecuteTime": {
     "end_time": "2022-09-13T02:49:01.552997Z",
     "start_time": "2022-09-13T02:49:01.416483Z"
    },
    "colab": {
     "base_uri": "https://localhost:8080/",
     "height": 497
    },
    "id": "x004aKvBg_7w",
    "outputId": "a88e2567-2326-4424-aad7-31f05e41845f"
   },
   "outputs": [
    {
     "data": {
      "image/png": "[encoded data removed]",
      "text/plain": [
       "<Figure size 1440x576 with 1 Axes>"
      ]
     },
     "metadata": {
      "needs_background": "light"
     },
     "output_type": "display_data"
    }
   ],
   "source": [
    "\n",
    "model=LinearRegression()\n",
    "\n",
    "model.fit(np.log(df_wrd['count']).to_frame(),np.log(df_wrd['count_rank']))\n",
    "\n",
    "\n",
    "plt.figure(figsize=(20,8))\n",
    "\n",
    "plt.plot(np.log(df_wrd['count_rank']),np.log(df_wrd['count']),'r.',label='True points ')\n",
    "plt.plot(np.log(df_wrd['count']),model.predict(np.log(df_wrd['count']).to_frame()),label='Theoretical prediction')\n",
    "plt.title('Actual Vs Predicted Word Frequency Distribution according to Zipf\\'s Law')\n",
    "plt.ylabel('Log of Frequency')\n",
    "plt.ylabel('Log of Rank')\n",
    "\n",
    "plt.legend()\n",
    "plt.show()"
   ]
  },
  {
   "cell_type": "code",
   "execution_count": 116,
   "id": "91c6b37e",
   "metadata": {
    "ExecuteTime": {
     "end_time": "2022-09-13T02:49:02.161298Z",
     "start_time": "2022-09-13T02:49:01.554483Z"
    }
   },
   "outputs": [
    {
     "data": {
      "image/png": "[encoded data removed]",
      "text/plain": [
       "<Figure size 1296x360 with 1 Axes>"
      ]
     },
     "metadata": {
      "needs_background": "light"
     },
     "output_type": "display_data"
    }
   ],
   "source": [
    "topwords_df = pd.DataFrame(word_frequencies.most_common(100), columns=['word', 'actual count'])\n",
    "topwords_df['expected zipf frequency'] = zipf_frequency(topwords_df.loc[0, 'actual count'])\n",
    "\n",
    "fig, ax = plt.subplots(figsize=(18,5))\n",
    "topwords_df.plot(kind='bar', ax=ax)\n",
    "ax.set_xticklabels(topwords_df['word'])\n",
    "fig.tight_layout()"
   ]
  },
  {
   "cell_type": "markdown",
   "id": "3a97ba4f",
   "metadata": {},
   "source": [
    "#### Task B:\n",
    "- Find the top 10 brands from frequency counts. You will need to write a script to count the frequencies of words (stopwords should NOT be counted). Replace frequently occurring car models with brands so that from now on you have to deal with only brands and not models. You will need another script for this job. A list of model and brand names (not exhaustive) are provided in a separate file."
   ]
  },
  {
   "cell_type": "code",
   "execution_count": 117,
   "id": "4f79e636",
   "metadata": {
    "ExecuteTime": {
     "end_time": "2022-09-13T02:49:02.169905Z",
     "start_time": "2022-09-13T02:49:02.162271Z"
    }
   },
   "outputs": [
    {
     "data": {
      "text/html": [
       "<div>\n",
       "<style scoped>\n",
       "    .dataframe tbody tr th:only-of-type {\n",
       "        vertical-align: middle;\n",
       "    }\n",
       "\n",
       "    .dataframe tbody tr th {\n",
       "        vertical-align: top;\n",
       "    }\n",
       "\n",
       "    .dataframe thead th {\n",
       "        text-align: right;\n",
       "    }\n",
       "</style>\n",
       "<table border=\"1\" class=\"dataframe\">\n",
       "  <thead>\n",
       "    <tr style=\"text-align: right;\">\n",
       "      <th></th>\n",
       "      <th>brand</th>\n",
       "      <th>model</th>\n",
       "    </tr>\n",
       "  </thead>\n",
       "  <tbody>\n",
       "    <tr>\n",
       "      <th>0</th>\n",
       "      <td>acura</td>\n",
       "      <td>integra</td>\n",
       "    </tr>\n",
       "    <tr>\n",
       "      <th>1</th>\n",
       "      <td>acura</td>\n",
       "      <td>legend</td>\n",
       "    </tr>\n",
       "    <tr>\n",
       "      <th>2</th>\n",
       "      <td>acura</td>\n",
       "      <td>vigor</td>\n",
       "    </tr>\n",
       "    <tr>\n",
       "      <th>3</th>\n",
       "      <td>acura</td>\n",
       "      <td>rlx</td>\n",
       "    </tr>\n",
       "    <tr>\n",
       "      <th>4</th>\n",
       "      <td>acura</td>\n",
       "      <td>ilx</td>\n",
       "    </tr>\n",
       "  </tbody>\n",
       "</table>\n",
       "</div>"
      ],
      "text/plain": [
       "   brand    model\n",
       "0  acura  integra\n",
       "1  acura   legend\n",
       "2  acura    vigor\n",
       "3  acura      rlx\n",
       "4  acura      ilx"
      ]
     },
     "execution_count": 117,
     "metadata": {},
     "output_type": "execute_result"
    }
   ],
   "source": [
    "brand_df = pd.read_csv('car models and brands (3).csv')\n",
    "brand_df.columns = ['brand','model']\n",
    "brand_df.head()"
   ]
  },
  {
   "cell_type": "code",
   "execution_count": 118,
   "id": "e9fbd81e",
   "metadata": {
    "ExecuteTime": {
     "end_time": "2022-09-13T02:49:20.554553Z",
     "start_time": "2022-09-13T02:49:02.170939Z"
    }
   },
   "outputs": [],
   "source": [
    "webscraped_df['scrapped_model_replaced_brand'] = webscraped_df['scrapped'].apply(model_to_brand)"
   ]
  },
  {
   "cell_type": "code",
   "execution_count": 119,
   "id": "cf604269",
   "metadata": {
    "ExecuteTime": {
     "end_time": "2022-09-13T02:49:22.199481Z",
     "start_time": "2022-09-13T02:49:20.555496Z"
    }
   },
   "outputs": [
    {
     "data": {
      "text/html": [
       "<div>\n",
       "<style scoped>\n",
       "    .dataframe tbody tr th:only-of-type {\n",
       "        vertical-align: middle;\n",
       "    }\n",
       "\n",
       "    .dataframe tbody tr th {\n",
       "        vertical-align: top;\n",
       "    }\n",
       "\n",
       "    .dataframe thead th {\n",
       "        text-align: right;\n",
       "    }\n",
       "</style>\n",
       "<table border=\"1\" class=\"dataframe\">\n",
       "  <thead>\n",
       "    <tr style=\"text-align: right;\">\n",
       "      <th></th>\n",
       "      <th>Date</th>\n",
       "      <th>scrapped</th>\n",
       "      <th>scrapped_model_replaced_brand</th>\n",
       "      <th>scrapped_model_replaced_brand_words</th>\n",
       "    </tr>\n",
       "  </thead>\n",
       "  <tbody>\n",
       "    <tr>\n",
       "      <th>0</th>\n",
       "      <td>February 25, 2014 6:50PM</td>\n",
       "      <td>you hit the nail on the head you budget for re...</td>\n",
       "      <td>you hit the nail on the head you budget for re...</td>\n",
       "      <td>[picture, big, new, payment, budget, years, tr...</td>\n",
       "    </tr>\n",
       "    <tr>\n",
       "      <th>1</th>\n",
       "      <td>February 25, 2014 7:09PM</td>\n",
       "      <td>now that i have inherited my acura tl back a 2...</td>\n",
       "      <td>now that i have inherited my acura tl back a 2...</td>\n",
       "      <td>[end, good, inherited, 174k, notice, last, scr...</td>\n",
       "    </tr>\n",
       "    <tr>\n",
       "      <th>2</th>\n",
       "      <td>February 25, 2014 7:25PM</td>\n",
       "      <td>even with the coil packs you had to replace it...</td>\n",
       "      <td>even with the coil packs you had to replace it...</td>\n",
       "      <td>[large, roadburner, shelling, new, v6, well, c...</td>\n",
       "    </tr>\n",
       "    <tr>\n",
       "      <th>3</th>\n",
       "      <td>February 26, 2014 10:59AM</td>\n",
       "      <td>exactly you have to evaluate all your options ...</td>\n",
       "      <td>exactly you have to evaluate all your options ...</td>\n",
       "      <td>[buy, slightest, malfunction, new, evaluate, w...</td>\n",
       "    </tr>\n",
       "    <tr>\n",
       "      <th>4</th>\n",
       "      <td>February 26, 2014 11:14AM</td>\n",
       "      <td>exactly you have to evaluate all your options ...</td>\n",
       "      <td>exactly you have to evaluate all your options ...</td>\n",
       "      <td>[buy, slightest, smells, religiously, thats, r...</td>\n",
       "    </tr>\n",
       "    <tr>\n",
       "      <th>...</th>\n",
       "      <td>...</td>\n",
       "      <td>...</td>\n",
       "      <td>...</td>\n",
       "      <td>...</td>\n",
       "    </tr>\n",
       "    <tr>\n",
       "      <th>4995</th>\n",
       "      <td>February 25, 2020 11:42AM</td>\n",
       "      <td>but the only toyotalexus car i would seriousl...</td>\n",
       "      <td>but the only toyotalexus car i would seriousl...</td>\n",
       "      <td>[supra, also, well, consider, sense, abou, toy...</td>\n",
       "    </tr>\n",
       "    <tr>\n",
       "      <th>4996</th>\n",
       "      <td>February 25, 2020 11:55AM</td>\n",
       "      <td>btw i looked into incentives on stinger up to ...</td>\n",
       "      <td>btw i looked into incentives on stinger up to ...</td>\n",
       "      <td>[great, deal, big, may, lease, thats, incentiv...</td>\n",
       "    </tr>\n",
       "    <tr>\n",
       "      <th>4997</th>\n",
       "      <td>February 25, 2020 11:58AM</td>\n",
       "      <td>btw i looked into incentives on stinger up to...</td>\n",
       "      <td>btw i looked into incentives on stinger up to...</td>\n",
       "      <td>[thats, especially, inflated, 6, levels, real,...</td>\n",
       "    </tr>\n",
       "    <tr>\n",
       "      <th>4998</th>\n",
       "      <td>February 25, 2020 12:30PM</td>\n",
       "      <td>show previous quotes 12200 lease cash for 24 ...</td>\n",
       "      <td>show previous quotes 12200 lease cash for 24 ...</td>\n",
       "      <td>[deal, terms, awd, lease, thats, 6, levels, in...</td>\n",
       "    </tr>\n",
       "    <tr>\n",
       "      <th>4999</th>\n",
       "      <td>February 25, 2020 12:30PM</td>\n",
       "      <td>wow</td>\n",
       "      <td>wow</td>\n",
       "      <td>[wow]</td>\n",
       "    </tr>\n",
       "  </tbody>\n",
       "</table>\n",
       "<p>5000 rows × 4 columns</p>\n",
       "</div>"
      ],
      "text/plain": [
       "                           Date  \\\n",
       "0      February 25, 2014 6:50PM   \n",
       "1      February 25, 2014 7:09PM   \n",
       "2      February 25, 2014 7:25PM   \n",
       "3     February 26, 2014 10:59AM   \n",
       "4     February 26, 2014 11:14AM   \n",
       "...                         ...   \n",
       "4995  February 25, 2020 11:42AM   \n",
       "4996  February 25, 2020 11:55AM   \n",
       "4997  February 25, 2020 11:58AM   \n",
       "4998  February 25, 2020 12:30PM   \n",
       "4999  February 25, 2020 12:30PM   \n",
       "\n",
       "                                               scrapped  \\\n",
       "0     you hit the nail on the head you budget for re...   \n",
       "1     now that i have inherited my acura tl back a 2...   \n",
       "2     even with the coil packs you had to replace it...   \n",
       "3     exactly you have to evaluate all your options ...   \n",
       "4     exactly you have to evaluate all your options ...   \n",
       "...                                                 ...   \n",
       "4995   but the only toyotalexus car i would seriousl...   \n",
       "4996  btw i looked into incentives on stinger up to ...   \n",
       "4997   btw i looked into incentives on stinger up to...   \n",
       "4998   show previous quotes 12200 lease cash for 24 ...   \n",
       "4999                                                wow   \n",
       "\n",
       "                          scrapped_model_replaced_brand  \\\n",
       "0     you hit the nail on the head you budget for re...   \n",
       "1     now that i have inherited my acura tl back a 2...   \n",
       "2     even with the coil packs you had to replace it...   \n",
       "3     exactly you have to evaluate all your options ...   \n",
       "4     exactly you have to evaluate all your options ...   \n",
       "...                                                 ...   \n",
       "4995   but the only toyotalexus car i would seriousl...   \n",
       "4996  btw i looked into incentives on stinger up to ...   \n",
       "4997   btw i looked into incentives on stinger up to...   \n",
       "4998   show previous quotes 12200 lease cash for 24 ...   \n",
       "4999                                                wow   \n",
       "\n",
       "                    scrapped_model_replaced_brand_words  \n",
       "0     [picture, big, new, payment, budget, years, tr...  \n",
       "1     [end, good, inherited, 174k, notice, last, scr...  \n",
       "2     [large, roadburner, shelling, new, v6, well, c...  \n",
       "3     [buy, slightest, malfunction, new, evaluate, w...  \n",
       "4     [buy, slightest, smells, religiously, thats, r...  \n",
       "...                                                 ...  \n",
       "4995  [supra, also, well, consider, sense, abou, toy...  \n",
       "4996  [great, deal, big, may, lease, thats, incentiv...  \n",
       "4997  [thats, especially, inflated, 6, levels, real,...  \n",
       "4998  [deal, terms, awd, lease, thats, 6, levels, in...  \n",
       "4999                                              [wow]  \n",
       "\n",
       "[5000 rows x 4 columns]"
      ]
     },
     "execution_count": 119,
     "metadata": {},
     "output_type": "execute_result"
    }
   ],
   "source": [
    "stop_words = stopwords.words('english') \n",
    "webscraped_df['scrapped_model_replaced_brand_words'] = webscraped_df['scrapped_model_replaced_brand'].apply(word_tokenize).apply(set)\n",
    "webscraped_df['scrapped_model_replaced_brand_words'] =  webscraped_df['scrapped_model_replaced_brand_words'].apply(remove_stopwords)\n",
    "webscraped_df"
   ]
  },
  {
   "cell_type": "code",
   "execution_count": 120,
   "id": "a57c39de",
   "metadata": {
    "ExecuteTime": {
     "end_time": "2022-09-13T02:49:22.305397Z",
     "start_time": "2022-09-13T02:49:22.200381Z"
    }
   },
   "outputs": [],
   "source": [
    "all_words = []\n",
    "for i in range(len(webscraped_df)):\n",
    "    all_words+=webscraped_df['scrapped_model_replaced_brand_words'][i]\n",
    "from nltk import FreqDist\n",
    "word_freq = nltk.FreqDist(all_words)"
   ]
  },
  {
   "cell_type": "code",
   "execution_count": 121,
   "id": "c73d742c",
   "metadata": {
    "ExecuteTime": {
     "end_time": "2022-09-13T02:49:22.311246Z",
     "start_time": "2022-09-13T02:49:22.306261Z"
    }
   },
   "outputs": [
    {
     "data": {
      "text/plain": [
       "array(['acura', 'audi', 'bmw', 'buick', 'cadillac', 'car', 'chevrolet',\n",
       "       'chrysler', 'dodge', 'ford', 'honda', 'hyndai kia', 'hyundai',\n",
       "       'hyundai,', 'hyundai.', 'infiniti', 'kia', 'kia,', 'kia.',\n",
       "       'lincoln', 'mazda', 'mercedes', 'mercedes benz', 'mercedes-benz',\n",
       "       'mercury', 'mitsubishi', 'nissan', 'nissan.', 'pontiac', 'problem',\n",
       "       'saturn', 'seat', 'sedan', 'subaru', 'suzuki', 'toyata', 'toyota',\n",
       "       'volkswagen', 'volkwagen', 'volvo'], dtype=object)"
      ]
     },
     "execution_count": 121,
     "metadata": {},
     "output_type": "execute_result"
    }
   ],
   "source": [
    "brand_names = brand_df['brand'].unique()\n",
    "brand_names"
   ]
  },
  {
   "cell_type": "code",
   "execution_count": 122,
   "id": "369c94f5",
   "metadata": {
    "ExecuteTime": {
     "end_time": "2022-09-13T02:49:22.406004Z",
     "start_time": "2022-09-13T02:49:22.312427Z"
    }
   },
   "outputs": [],
   "source": [
    "brand_counts = []\n",
    "for key,item in word_freq.most_common():\n",
    "    if key in brand_names:\n",
    "        temp = (key,item)\n",
    "        brand_counts.append(temp)"
   ]
  },
  {
   "cell_type": "code",
   "execution_count": 123,
   "id": "817b71e2",
   "metadata": {
    "ExecuteTime": {
     "end_time": "2022-09-13T02:49:22.412140Z",
     "start_time": "2022-09-13T02:49:22.407047Z"
    }
   },
   "outputs": [
    {
     "data": {
      "text/html": [
       "<div>\n",
       "<style scoped>\n",
       "    .dataframe tbody tr th:only-of-type {\n",
       "        vertical-align: middle;\n",
       "    }\n",
       "\n",
       "    .dataframe tbody tr th {\n",
       "        vertical-align: top;\n",
       "    }\n",
       "\n",
       "    .dataframe thead th {\n",
       "        text-align: right;\n",
       "    }\n",
       "</style>\n",
       "<table border=\"1\" class=\"dataframe\">\n",
       "  <thead>\n",
       "    <tr style=\"text-align: right;\">\n",
       "      <th></th>\n",
       "      <th>Brand</th>\n",
       "      <th>Freq</th>\n",
       "    </tr>\n",
       "  </thead>\n",
       "  <tbody>\n",
       "    <tr>\n",
       "      <th>0</th>\n",
       "      <td>car</td>\n",
       "      <td>2102</td>\n",
       "    </tr>\n",
       "    <tr>\n",
       "      <th>1</th>\n",
       "      <td>bmw</td>\n",
       "      <td>1156</td>\n",
       "    </tr>\n",
       "    <tr>\n",
       "      <th>2</th>\n",
       "      <td>audi</td>\n",
       "      <td>853</td>\n",
       "    </tr>\n",
       "    <tr>\n",
       "      <th>3</th>\n",
       "      <td>acura</td>\n",
       "      <td>522</td>\n",
       "    </tr>\n",
       "    <tr>\n",
       "      <th>4</th>\n",
       "      <td>honda</td>\n",
       "      <td>463</td>\n",
       "    </tr>\n",
       "    <tr>\n",
       "      <th>5</th>\n",
       "      <td>seat</td>\n",
       "      <td>291</td>\n",
       "    </tr>\n",
       "    <tr>\n",
       "      <th>6</th>\n",
       "      <td>sedan</td>\n",
       "      <td>281</td>\n",
       "    </tr>\n",
       "    <tr>\n",
       "      <th>7</th>\n",
       "      <td>problem</td>\n",
       "      <td>257</td>\n",
       "    </tr>\n",
       "    <tr>\n",
       "      <th>8</th>\n",
       "      <td>volkswagen</td>\n",
       "      <td>256</td>\n",
       "    </tr>\n",
       "    <tr>\n",
       "      <th>9</th>\n",
       "      <td>mercedes-benz</td>\n",
       "      <td>226</td>\n",
       "    </tr>\n",
       "    <tr>\n",
       "      <th>10</th>\n",
       "      <td>toyota</td>\n",
       "      <td>224</td>\n",
       "    </tr>\n",
       "    <tr>\n",
       "      <th>11</th>\n",
       "      <td>cadillac</td>\n",
       "      <td>224</td>\n",
       "    </tr>\n",
       "    <tr>\n",
       "      <th>12</th>\n",
       "      <td>hyundai</td>\n",
       "      <td>216</td>\n",
       "    </tr>\n",
       "    <tr>\n",
       "      <th>13</th>\n",
       "      <td>infiniti</td>\n",
       "      <td>195</td>\n",
       "    </tr>\n",
       "    <tr>\n",
       "      <th>14</th>\n",
       "      <td>ford</td>\n",
       "      <td>194</td>\n",
       "    </tr>\n",
       "    <tr>\n",
       "      <th>15</th>\n",
       "      <td>volvo</td>\n",
       "      <td>135</td>\n",
       "    </tr>\n",
       "    <tr>\n",
       "      <th>16</th>\n",
       "      <td>kia</td>\n",
       "      <td>133</td>\n",
       "    </tr>\n",
       "    <tr>\n",
       "      <th>17</th>\n",
       "      <td>chevrolet</td>\n",
       "      <td>127</td>\n",
       "    </tr>\n",
       "    <tr>\n",
       "      <th>18</th>\n",
       "      <td>subaru</td>\n",
       "      <td>100</td>\n",
       "    </tr>\n",
       "    <tr>\n",
       "      <th>19</th>\n",
       "      <td>buick</td>\n",
       "      <td>97</td>\n",
       "    </tr>\n",
       "    <tr>\n",
       "      <th>20</th>\n",
       "      <td>mazda</td>\n",
       "      <td>90</td>\n",
       "    </tr>\n",
       "    <tr>\n",
       "      <th>21</th>\n",
       "      <td>lincoln</td>\n",
       "      <td>86</td>\n",
       "    </tr>\n",
       "    <tr>\n",
       "      <th>22</th>\n",
       "      <td>dodge</td>\n",
       "      <td>81</td>\n",
       "    </tr>\n",
       "    <tr>\n",
       "      <th>23</th>\n",
       "      <td>chrysler</td>\n",
       "      <td>71</td>\n",
       "    </tr>\n",
       "    <tr>\n",
       "      <th>24</th>\n",
       "      <td>nissan</td>\n",
       "      <td>61</td>\n",
       "    </tr>\n",
       "    <tr>\n",
       "      <th>25</th>\n",
       "      <td>pontiac</td>\n",
       "      <td>22</td>\n",
       "    </tr>\n",
       "    <tr>\n",
       "      <th>26</th>\n",
       "      <td>mercury</td>\n",
       "      <td>9</td>\n",
       "    </tr>\n",
       "    <tr>\n",
       "      <th>27</th>\n",
       "      <td>suzuki</td>\n",
       "      <td>5</td>\n",
       "    </tr>\n",
       "    <tr>\n",
       "      <th>28</th>\n",
       "      <td>saturn</td>\n",
       "      <td>3</td>\n",
       "    </tr>\n",
       "  </tbody>\n",
       "</table>\n",
       "</div>"
      ],
      "text/plain": [
       "            Brand  Freq\n",
       "0             car  2102\n",
       "1             bmw  1156\n",
       "2            audi   853\n",
       "3           acura   522\n",
       "4           honda   463\n",
       "5            seat   291\n",
       "6           sedan   281\n",
       "7         problem   257\n",
       "8      volkswagen   256\n",
       "9   mercedes-benz   226\n",
       "10         toyota   224\n",
       "11       cadillac   224\n",
       "12        hyundai   216\n",
       "13       infiniti   195\n",
       "14           ford   194\n",
       "15          volvo   135\n",
       "16            kia   133\n",
       "17      chevrolet   127\n",
       "18         subaru   100\n",
       "19          buick    97\n",
       "20          mazda    90\n",
       "21        lincoln    86\n",
       "22          dodge    81\n",
       "23       chrysler    71\n",
       "24         nissan    61\n",
       "25        pontiac    22\n",
       "26        mercury     9\n",
       "27         suzuki     5\n",
       "28         saturn     3"
      ]
     },
     "execution_count": 123,
     "metadata": {},
     "output_type": "execute_result"
    }
   ],
   "source": [
    "brands_sorted_df = pd.DataFrame(brand_counts, columns = ['Brand','Freq'])\n",
    "brands_sorted_df"
   ]
  },
  {
   "cell_type": "code",
   "execution_count": 124,
   "id": "268decf0",
   "metadata": {
    "ExecuteTime": {
     "end_time": "2022-09-13T02:49:22.420073Z",
     "start_time": "2022-09-13T02:49:22.413119Z"
    }
   },
   "outputs": [
    {
     "data": {
      "text/html": [
       "<div>\n",
       "<style scoped>\n",
       "    .dataframe tbody tr th:only-of-type {\n",
       "        vertical-align: middle;\n",
       "    }\n",
       "\n",
       "    .dataframe tbody tr th {\n",
       "        vertical-align: top;\n",
       "    }\n",
       "\n",
       "    .dataframe thead th {\n",
       "        text-align: right;\n",
       "    }\n",
       "</style>\n",
       "<table border=\"1\" class=\"dataframe\">\n",
       "  <thead>\n",
       "    <tr style=\"text-align: right;\">\n",
       "      <th></th>\n",
       "      <th>index</th>\n",
       "      <th>Brand</th>\n",
       "      <th>Freq</th>\n",
       "    </tr>\n",
       "  </thead>\n",
       "  <tbody>\n",
       "    <tr>\n",
       "      <th>0</th>\n",
       "      <td>1</td>\n",
       "      <td>bmw</td>\n",
       "      <td>1156</td>\n",
       "    </tr>\n",
       "    <tr>\n",
       "      <th>1</th>\n",
       "      <td>2</td>\n",
       "      <td>audi</td>\n",
       "      <td>853</td>\n",
       "    </tr>\n",
       "    <tr>\n",
       "      <th>2</th>\n",
       "      <td>3</td>\n",
       "      <td>acura</td>\n",
       "      <td>522</td>\n",
       "    </tr>\n",
       "    <tr>\n",
       "      <th>3</th>\n",
       "      <td>4</td>\n",
       "      <td>honda</td>\n",
       "      <td>463</td>\n",
       "    </tr>\n",
       "    <tr>\n",
       "      <th>4</th>\n",
       "      <td>8</td>\n",
       "      <td>volkswagen</td>\n",
       "      <td>256</td>\n",
       "    </tr>\n",
       "    <tr>\n",
       "      <th>5</th>\n",
       "      <td>9</td>\n",
       "      <td>mercedes-benz</td>\n",
       "      <td>226</td>\n",
       "    </tr>\n",
       "    <tr>\n",
       "      <th>6</th>\n",
       "      <td>10</td>\n",
       "      <td>toyota</td>\n",
       "      <td>224</td>\n",
       "    </tr>\n",
       "    <tr>\n",
       "      <th>7</th>\n",
       "      <td>11</td>\n",
       "      <td>cadillac</td>\n",
       "      <td>224</td>\n",
       "    </tr>\n",
       "    <tr>\n",
       "      <th>8</th>\n",
       "      <td>12</td>\n",
       "      <td>hyundai</td>\n",
       "      <td>216</td>\n",
       "    </tr>\n",
       "    <tr>\n",
       "      <th>9</th>\n",
       "      <td>13</td>\n",
       "      <td>infiniti</td>\n",
       "      <td>195</td>\n",
       "    </tr>\n",
       "    <tr>\n",
       "      <th>10</th>\n",
       "      <td>14</td>\n",
       "      <td>ford</td>\n",
       "      <td>194</td>\n",
       "    </tr>\n",
       "    <tr>\n",
       "      <th>11</th>\n",
       "      <td>15</td>\n",
       "      <td>volvo</td>\n",
       "      <td>135</td>\n",
       "    </tr>\n",
       "    <tr>\n",
       "      <th>12</th>\n",
       "      <td>16</td>\n",
       "      <td>kia</td>\n",
       "      <td>133</td>\n",
       "    </tr>\n",
       "    <tr>\n",
       "      <th>13</th>\n",
       "      <td>17</td>\n",
       "      <td>chevrolet</td>\n",
       "      <td>127</td>\n",
       "    </tr>\n",
       "    <tr>\n",
       "      <th>14</th>\n",
       "      <td>18</td>\n",
       "      <td>subaru</td>\n",
       "      <td>100</td>\n",
       "    </tr>\n",
       "    <tr>\n",
       "      <th>15</th>\n",
       "      <td>19</td>\n",
       "      <td>buick</td>\n",
       "      <td>97</td>\n",
       "    </tr>\n",
       "    <tr>\n",
       "      <th>16</th>\n",
       "      <td>20</td>\n",
       "      <td>mazda</td>\n",
       "      <td>90</td>\n",
       "    </tr>\n",
       "    <tr>\n",
       "      <th>17</th>\n",
       "      <td>21</td>\n",
       "      <td>lincoln</td>\n",
       "      <td>86</td>\n",
       "    </tr>\n",
       "    <tr>\n",
       "      <th>18</th>\n",
       "      <td>22</td>\n",
       "      <td>dodge</td>\n",
       "      <td>81</td>\n",
       "    </tr>\n",
       "    <tr>\n",
       "      <th>19</th>\n",
       "      <td>23</td>\n",
       "      <td>chrysler</td>\n",
       "      <td>71</td>\n",
       "    </tr>\n",
       "    <tr>\n",
       "      <th>20</th>\n",
       "      <td>24</td>\n",
       "      <td>nissan</td>\n",
       "      <td>61</td>\n",
       "    </tr>\n",
       "    <tr>\n",
       "      <th>21</th>\n",
       "      <td>25</td>\n",
       "      <td>pontiac</td>\n",
       "      <td>22</td>\n",
       "    </tr>\n",
       "    <tr>\n",
       "      <th>22</th>\n",
       "      <td>26</td>\n",
       "      <td>mercury</td>\n",
       "      <td>9</td>\n",
       "    </tr>\n",
       "    <tr>\n",
       "      <th>23</th>\n",
       "      <td>27</td>\n",
       "      <td>suzuki</td>\n",
       "      <td>5</td>\n",
       "    </tr>\n",
       "    <tr>\n",
       "      <th>24</th>\n",
       "      <td>28</td>\n",
       "      <td>saturn</td>\n",
       "      <td>3</td>\n",
       "    </tr>\n",
       "  </tbody>\n",
       "</table>\n",
       "</div>"
      ],
      "text/plain": [
       "    index          Brand  Freq\n",
       "0       1            bmw  1156\n",
       "1       2           audi   853\n",
       "2       3          acura   522\n",
       "3       4          honda   463\n",
       "4       8     volkswagen   256\n",
       "5       9  mercedes-benz   226\n",
       "6      10         toyota   224\n",
       "7      11       cadillac   224\n",
       "8      12        hyundai   216\n",
       "9      13       infiniti   195\n",
       "10     14           ford   194\n",
       "11     15          volvo   135\n",
       "12     16            kia   133\n",
       "13     17      chevrolet   127\n",
       "14     18         subaru   100\n",
       "15     19          buick    97\n",
       "16     20          mazda    90\n",
       "17     21        lincoln    86\n",
       "18     22          dodge    81\n",
       "19     23       chrysler    71\n",
       "20     24         nissan    61\n",
       "21     25        pontiac    22\n",
       "22     26        mercury     9\n",
       "23     27         suzuki     5\n",
       "24     28         saturn     3"
      ]
     },
     "execution_count": 124,
     "metadata": {},
     "output_type": "execute_result"
    }
   ],
   "source": [
    "brands_sorted_df.drop([0, 5, 6, 7], axis = 0, inplace =True)\n",
    "brands_sorted_df.reset_index()"
   ]
  },
  {
   "cell_type": "code",
   "execution_count": 125,
   "id": "8c927792",
   "metadata": {
    "ExecuteTime": {
     "end_time": "2022-09-13T02:49:22.425637Z",
     "start_time": "2022-09-13T02:49:22.421263Z"
    }
   },
   "outputs": [
    {
     "data": {
      "text/html": [
       "<div>\n",
       "<style scoped>\n",
       "    .dataframe tbody tr th:only-of-type {\n",
       "        vertical-align: middle;\n",
       "    }\n",
       "\n",
       "    .dataframe tbody tr th {\n",
       "        vertical-align: top;\n",
       "    }\n",
       "\n",
       "    .dataframe thead th {\n",
       "        text-align: right;\n",
       "    }\n",
       "</style>\n",
       "<table border=\"1\" class=\"dataframe\">\n",
       "  <thead>\n",
       "    <tr style=\"text-align: right;\">\n",
       "      <th></th>\n",
       "      <th>Brand</th>\n",
       "      <th>Freq</th>\n",
       "    </tr>\n",
       "  </thead>\n",
       "  <tbody>\n",
       "    <tr>\n",
       "      <th>1</th>\n",
       "      <td>bmw</td>\n",
       "      <td>1156</td>\n",
       "    </tr>\n",
       "    <tr>\n",
       "      <th>2</th>\n",
       "      <td>audi</td>\n",
       "      <td>853</td>\n",
       "    </tr>\n",
       "    <tr>\n",
       "      <th>3</th>\n",
       "      <td>acura</td>\n",
       "      <td>522</td>\n",
       "    </tr>\n",
       "    <tr>\n",
       "      <th>4</th>\n",
       "      <td>honda</td>\n",
       "      <td>463</td>\n",
       "    </tr>\n",
       "    <tr>\n",
       "      <th>8</th>\n",
       "      <td>volkswagen</td>\n",
       "      <td>256</td>\n",
       "    </tr>\n",
       "    <tr>\n",
       "      <th>9</th>\n",
       "      <td>mercedes-benz</td>\n",
       "      <td>226</td>\n",
       "    </tr>\n",
       "    <tr>\n",
       "      <th>10</th>\n",
       "      <td>toyota</td>\n",
       "      <td>224</td>\n",
       "    </tr>\n",
       "    <tr>\n",
       "      <th>11</th>\n",
       "      <td>cadillac</td>\n",
       "      <td>224</td>\n",
       "    </tr>\n",
       "    <tr>\n",
       "      <th>12</th>\n",
       "      <td>hyundai</td>\n",
       "      <td>216</td>\n",
       "    </tr>\n",
       "    <tr>\n",
       "      <th>13</th>\n",
       "      <td>infiniti</td>\n",
       "      <td>195</td>\n",
       "    </tr>\n",
       "  </tbody>\n",
       "</table>\n",
       "</div>"
      ],
      "text/plain": [
       "            Brand  Freq\n",
       "1             bmw  1156\n",
       "2            audi   853\n",
       "3           acura   522\n",
       "4           honda   463\n",
       "8      volkswagen   256\n",
       "9   mercedes-benz   226\n",
       "10         toyota   224\n",
       "11       cadillac   224\n",
       "12        hyundai   216\n",
       "13       infiniti   195"
      ]
     },
     "execution_count": 125,
     "metadata": {},
     "output_type": "execute_result"
    }
   ],
   "source": [
    "brands_sorted_df[:10]"
   ]
  },
  {
   "cell_type": "code",
   "execution_count": 126,
   "id": "c91743a0",
   "metadata": {
    "ExecuteTime": {
     "end_time": "2022-09-13T02:49:22.506182Z",
     "start_time": "2022-09-13T02:49:22.427224Z"
    }
   },
   "outputs": [
    {
     "data": {
      "text/plain": [
       "Text(0.5, 1.0, 'Top 10 brands - Frequency table')"
      ]
     },
     "execution_count": 126,
     "metadata": {},
     "output_type": "execute_result"
    },
    {
     "data": {
      "image/png": "[encoded data removed]",
      "text/plain": [
       "<Figure size 432x288 with 1 Axes>"
      ]
     },
     "metadata": {
      "needs_background": "light"
     },
     "output_type": "display_data"
    }
   ],
   "source": [
    "sns.barplot(y='Brand', x='Freq', data=brands_sorted_df[:10]).set_title('Top 10 brands - Frequency table')"
   ]
  },
  {
   "cell_type": "markdown",
   "id": "17e7f84b",
   "metadata": {
    "id": "WqwjmZxmbs_f"
   },
   "source": [
    "#### Task C:\n",
    "- Calculate lift ratios for associations between the top-10 brands identified in Task A. You will have  to write a script to do this task). For lift calculations, be sure not to count a mention more than once  per post, even if it is mentioned multiple times in the post."
   ]
  },
  {
   "cell_type": "code",
   "execution_count": 127,
   "id": "42ce24dd",
   "metadata": {
    "ExecuteTime": {
     "end_time": "2022-09-13T02:49:22.510217Z",
     "start_time": "2022-09-13T02:49:22.507285Z"
    },
    "colab": {
     "base_uri": "https://localhost:8080/"
    },
    "id": "cOtFn4OxhsVX",
    "outputId": "4353cfe7-a86d-4595-9fb8-3a296de8e386",
    "scrolled": true
   },
   "outputs": [
    {
     "data": {
      "text/plain": [
       "['bmw',\n",
       " 'audi',\n",
       " 'acura',\n",
       " 'honda',\n",
       " 'volkswagen',\n",
       " 'mercedes-benz',\n",
       " 'toyota',\n",
       " 'cadillac',\n",
       " 'hyundai',\n",
       " 'infiniti']"
      ]
     },
     "execution_count": 127,
     "metadata": {},
     "output_type": "execute_result"
    }
   ],
   "source": [
    "top_brands = list(brands_sorted_df['Brand'][:10])\n",
    "top_brands"
   ]
  },
  {
   "cell_type": "code",
   "execution_count": 128,
   "id": "31931c90",
   "metadata": {
    "ExecuteTime": {
     "end_time": "2022-09-13T02:49:22.516178Z",
     "start_time": "2022-09-13T02:49:22.511167Z"
    }
   },
   "outputs": [
    {
     "data": {
      "text/plain": [
       "0       [picture, big, new, payment, budget, years, tr...\n",
       "1       [end, good, inherited, 174k, notice, last, scr...\n",
       "2       [large, roadburner, shelling, new, v6, well, c...\n",
       "3       [buy, slightest, malfunction, new, evaluate, w...\n",
       "4       [buy, slightest, smells, religiously, thats, r...\n",
       "                              ...                        \n",
       "4995    [supra, also, well, consider, sense, abou, toy...\n",
       "4996    [great, deal, big, may, lease, thats, incentiv...\n",
       "4997    [thats, especially, inflated, 6, levels, real,...\n",
       "4998    [deal, terms, awd, lease, thats, 6, levels, in...\n",
       "4999                                                [wow]\n",
       "Name: scrapped_model_replaced_brand_words, Length: 5000, dtype: object"
      ]
     },
     "execution_count": 128,
     "metadata": {},
     "output_type": "execute_result"
    }
   ],
   "source": [
    "import itertools\n",
    "\n",
    "top_brand_combos = list(itertools.combinations(top_brands,2))\n",
    "webscraped_df['scrapped_model_replaced_brand_words']"
   ]
  },
  {
   "cell_type": "code",
   "execution_count": 129,
   "id": "28315bc3",
   "metadata": {
    "ExecuteTime": {
     "end_time": "2022-09-13T02:49:22.520394Z",
     "start_time": "2022-09-13T02:49:22.517282Z"
    }
   },
   "outputs": [],
   "source": [
    "def liftCalc(word_1,word_2):\n",
    "    w1freq = sum(webscraped_df.apply(lambda x: word_1 in x['scrapped_model_replaced_brand_words'], axis=1))\n",
    "    w2freq = sum(webscraped_df.apply(lambda x: word_2 in x['scrapped_model_replaced_brand_words'], axis=1))\n",
    "    bothfreq = sum(webscraped_df.apply(lambda x: word_1 in x['scrapped_model_replaced_brand_words'] and word_2 in x['scrapped_model_replaced_brand_words'], axis=1))\n",
    "    return float(bothfreq/len(webscraped_df))/((float(w1freq)/len(webscraped_df))*(float(w2freq)/len(webscraped_df)))"
   ]
  },
  {
   "cell_type": "code",
   "execution_count": 130,
   "id": "b62c3ea8",
   "metadata": {
    "ExecuteTime": {
     "end_time": "2022-09-13T02:49:26.471149Z",
     "start_time": "2022-09-13T02:49:22.521554Z"
    }
   },
   "outputs": [],
   "source": [
    "brand_lifts = dict()\n",
    "\n",
    "#iterate over brand combinations, calculate lift, save to dictionary\n",
    "for i in range(0,len(top_brand_combos)): \n",
    "    a,b = top_brand_combos[i]\n",
    "    brands = (a,b)\n",
    "    lift = liftCalc(a,b)\n",
    "    brand_lifts[brands] = lift"
   ]
  },
  {
   "cell_type": "code",
   "execution_count": 131,
   "id": "f79ca0b3",
   "metadata": {
    "ExecuteTime": {
     "end_time": "2022-09-13T02:49:26.489947Z",
     "start_time": "2022-09-13T02:49:26.472188Z"
    }
   },
   "outputs": [
    {
     "data": {
      "text/html": [
       "<div>\n",
       "<style scoped>\n",
       "    .dataframe tbody tr th:only-of-type {\n",
       "        vertical-align: middle;\n",
       "    }\n",
       "\n",
       "    .dataframe tbody tr th {\n",
       "        vertical-align: top;\n",
       "    }\n",
       "\n",
       "    .dataframe thead th {\n",
       "        text-align: right;\n",
       "    }\n",
       "</style>\n",
       "<table border=\"1\" class=\"dataframe\">\n",
       "  <thead>\n",
       "    <tr style=\"text-align: right;\">\n",
       "      <th></th>\n",
       "      <th>bmw</th>\n",
       "      <th>audi</th>\n",
       "      <th>acura</th>\n",
       "      <th>honda</th>\n",
       "      <th>volkswagen</th>\n",
       "      <th>mercedes-benz</th>\n",
       "      <th>toyota</th>\n",
       "      <th>cadillac</th>\n",
       "      <th>hyundai</th>\n",
       "      <th>infiniti</th>\n",
       "    </tr>\n",
       "  </thead>\n",
       "  <tbody>\n",
       "    <tr>\n",
       "      <th>bmw</th>\n",
       "      <td>NaN</td>\n",
       "      <td>1.896421</td>\n",
       "      <td>1.458325</td>\n",
       "      <td>1.102334</td>\n",
       "      <td>1.132002</td>\n",
       "      <td>3.004716</td>\n",
       "      <td>1.44819</td>\n",
       "      <td>2.027465</td>\n",
       "      <td>1.321607</td>\n",
       "      <td>2.351167</td>\n",
       "    </tr>\n",
       "    <tr>\n",
       "      <th>audi</th>\n",
       "      <td>1.896421</td>\n",
       "      <td>NaN</td>\n",
       "      <td>2.279536</td>\n",
       "      <td>1.671144</td>\n",
       "      <td>2.656067</td>\n",
       "      <td>3.605183</td>\n",
       "      <td>1.700929</td>\n",
       "      <td>3.087841</td>\n",
       "      <td>1.791064</td>\n",
       "      <td>3.066102</td>\n",
       "    </tr>\n",
       "    <tr>\n",
       "      <th>acura</th>\n",
       "      <td>1.458325</td>\n",
       "      <td>2.279536</td>\n",
       "      <td>NaN</td>\n",
       "      <td>3.31008</td>\n",
       "      <td>1.309567</td>\n",
       "      <td>3.051572</td>\n",
       "      <td>1.667693</td>\n",
       "      <td>2.950534</td>\n",
       "      <td>1.640769</td>\n",
       "      <td>4.961195</td>\n",
       "    </tr>\n",
       "    <tr>\n",
       "      <th>honda</th>\n",
       "      <td>1.102334</td>\n",
       "      <td>1.671144</td>\n",
       "      <td>3.31008</td>\n",
       "      <td>NaN</td>\n",
       "      <td>2.024838</td>\n",
       "      <td>1.624649</td>\n",
       "      <td>3.42294</td>\n",
       "      <td>1.542734</td>\n",
       "      <td>2.199824</td>\n",
       "      <td>2.215207</td>\n",
       "    </tr>\n",
       "    <tr>\n",
       "      <th>volkswagen</th>\n",
       "      <td>1.132002</td>\n",
       "      <td>2.656067</td>\n",
       "      <td>1.309567</td>\n",
       "      <td>2.024838</td>\n",
       "      <td>NaN</td>\n",
       "      <td>1.642008</td>\n",
       "      <td>2.092634</td>\n",
       "      <td>1.220703</td>\n",
       "      <td>2.350984</td>\n",
       "      <td>2.003205</td>\n",
       "    </tr>\n",
       "    <tr>\n",
       "      <th>mercedes-benz</th>\n",
       "      <td>3.004716</td>\n",
       "      <td>3.605183</td>\n",
       "      <td>3.051572</td>\n",
       "      <td>1.624649</td>\n",
       "      <td>1.642008</td>\n",
       "      <td>NaN</td>\n",
       "      <td>1.87658</td>\n",
       "      <td>6.02481</td>\n",
       "      <td>2.355785</td>\n",
       "      <td>5.672793</td>\n",
       "    </tr>\n",
       "    <tr>\n",
       "      <th>toyota</th>\n",
       "      <td>1.44819</td>\n",
       "      <td>1.700929</td>\n",
       "      <td>1.667693</td>\n",
       "      <td>3.42294</td>\n",
       "      <td>2.092634</td>\n",
       "      <td>1.87658</td>\n",
       "      <td>NaN</td>\n",
       "      <td>1.893335</td>\n",
       "      <td>3.203538</td>\n",
       "      <td>2.289377</td>\n",
       "    </tr>\n",
       "    <tr>\n",
       "      <th>cadillac</th>\n",
       "      <td>2.027465</td>\n",
       "      <td>3.087841</td>\n",
       "      <td>2.950534</td>\n",
       "      <td>1.542734</td>\n",
       "      <td>1.220703</td>\n",
       "      <td>6.02481</td>\n",
       "      <td>1.893335</td>\n",
       "      <td>NaN</td>\n",
       "      <td>1.860119</td>\n",
       "      <td>5.265568</td>\n",
       "    </tr>\n",
       "    <tr>\n",
       "      <th>hyundai</th>\n",
       "      <td>1.321607</td>\n",
       "      <td>1.791064</td>\n",
       "      <td>1.640769</td>\n",
       "      <td>2.199824</td>\n",
       "      <td>2.350984</td>\n",
       "      <td>2.355785</td>\n",
       "      <td>3.203538</td>\n",
       "      <td>1.860119</td>\n",
       "      <td>NaN</td>\n",
       "      <td>3.08642</td>\n",
       "    </tr>\n",
       "    <tr>\n",
       "      <th>infiniti</th>\n",
       "      <td>2.351167</td>\n",
       "      <td>3.066102</td>\n",
       "      <td>4.961195</td>\n",
       "      <td>2.215207</td>\n",
       "      <td>2.003205</td>\n",
       "      <td>5.672793</td>\n",
       "      <td>2.289377</td>\n",
       "      <td>5.265568</td>\n",
       "      <td>3.08642</td>\n",
       "      <td>NaN</td>\n",
       "    </tr>\n",
       "  </tbody>\n",
       "</table>\n",
       "</div>"
      ],
      "text/plain": [
       "                    bmw      audi     acura     honda volkswagen  \\\n",
       "bmw                 NaN  1.896421  1.458325  1.102334   1.132002   \n",
       "audi           1.896421       NaN  2.279536  1.671144   2.656067   \n",
       "acura          1.458325  2.279536       NaN   3.31008   1.309567   \n",
       "honda          1.102334  1.671144   3.31008       NaN   2.024838   \n",
       "volkswagen     1.132002  2.656067  1.309567  2.024838        NaN   \n",
       "mercedes-benz  3.004716  3.605183  3.051572  1.624649   1.642008   \n",
       "toyota          1.44819  1.700929  1.667693   3.42294   2.092634   \n",
       "cadillac       2.027465  3.087841  2.950534  1.542734   1.220703   \n",
       "hyundai        1.321607  1.791064  1.640769  2.199824   2.350984   \n",
       "infiniti       2.351167  3.066102  4.961195  2.215207   2.003205   \n",
       "\n",
       "              mercedes-benz    toyota  cadillac   hyundai  infiniti  \n",
       "bmw                3.004716   1.44819  2.027465  1.321607  2.351167  \n",
       "audi               3.605183  1.700929  3.087841  1.791064  3.066102  \n",
       "acura              3.051572  1.667693  2.950534  1.640769  4.961195  \n",
       "honda              1.624649   3.42294  1.542734  2.199824  2.215207  \n",
       "volkswagen         1.642008  2.092634  1.220703  2.350984  2.003205  \n",
       "mercedes-benz           NaN   1.87658   6.02481  2.355785  5.672793  \n",
       "toyota              1.87658       NaN  1.893335  3.203538  2.289377  \n",
       "cadillac            6.02481  1.893335       NaN  1.860119  5.265568  \n",
       "hyundai            2.355785  3.203538  1.860119       NaN   3.08642  \n",
       "infiniti           5.672793  2.289377  5.265568   3.08642       NaN  "
      ]
     },
     "execution_count": 131,
     "metadata": {},
     "output_type": "execute_result"
    }
   ],
   "source": [
    "df_lifts = pd.DataFrame(columns=top_brands,index=top_brands)\n",
    "for brand in top_brands: \n",
    "    df_lifts[brand][brand] = np.NaN\n",
    "for brands in brand_lifts:\n",
    "    a,b = brands\n",
    "    df_lifts[a][b] = (brand_lifts[brands])\n",
    "    df_lifts[b][a] = (brand_lifts[brands])\n",
    "df_lifts"
   ]
  },
  {
   "cell_type": "code",
   "execution_count": null,
   "id": "408f82b7",
   "metadata": {},
   "outputs": [],
   "source": []
  },
  {
   "cell_type": "code",
   "execution_count": 132,
   "id": "f1a0040e",
   "metadata": {
    "ExecuteTime": {
     "end_time": "2022-09-13T02:49:26.673222Z",
     "start_time": "2022-09-13T02:49:26.491058Z"
    },
    "colab": {
     "base_uri": "https://localhost:8080/",
     "height": 514
    },
    "id": "pamkP1sTsHFS",
    "outputId": "ced23fe9-6563-4160-f7a2-2a5ec2946fc0",
    "scrolled": false
   },
   "outputs": [
    {
     "data": {
      "text/plain": [
       "<AxesSubplot:>"
      ]
     },
     "execution_count": 132,
     "metadata": {},
     "output_type": "execute_result"
    },
    {
     "data": {
      "image/png": "[encoded data removed]",
      "text/plain": [
       "<Figure size 1440x576 with 2 Axes>"
      ]
     },
     "metadata": {
      "needs_background": "light"
     },
     "output_type": "display_data"
    }
   ],
   "source": [
    "plt.figure(figsize=(20,8))\n",
    "sns.heatmap(df_lifts.fillna(0),annot=True,mask=np.triu(df_lifts))"
   ]
  },
  {
   "cell_type": "markdown",
   "id": "e9360e79",
   "metadata": {
    "id": "KbIlSlARsjOS"
   },
   "source": []
  },
  {
   "cell_type": "markdown",
   "id": "7289bde8",
   "metadata": {
    "id": "pEolS6uvbwf2"
   },
   "source": [
    "#### Task D \n",
    "- Show the brands on a multi-dimensional scaling (MDS) map (use a Python script for MDS, there  are multiple scripts available on GitHub). "
   ]
  },
  {
   "cell_type": "code",
   "execution_count": 133,
   "id": "35e2e388",
   "metadata": {
    "ExecuteTime": {
     "end_time": "2022-09-13T02:49:26.764175Z",
     "start_time": "2022-09-13T02:49:26.674525Z"
    }
   },
   "outputs": [
    {
     "name": "stderr",
     "output_type": "stream",
     "text": [
      "/Users/viswatej/opt/anaconda3/lib/python3.9/site-packages/sklearn/manifold/_mds.py:506: UserWarning: The MDS API has changed. ``fit`` now constructs an dissimilarity matrix from data. To use a custom dissimilarity matrix, set ``dissimilarity='precomputed'``.\n",
      "  warnings.warn(\n"
     ]
    },
    {
     "data": {
      "image/png": "[encoded data removed]",
      "text/plain": [
       "<Figure size 1440x576 with 1 Axes>"
      ]
     },
     "metadata": {
      "needs_background": "light"
     },
     "output_type": "display_data"
    }
   ],
   "source": [
    "from sklearn.manifold import MDS\n",
    "df_lift = pd.DataFrame(df_lifts)\n",
    "df_disimilarity=1/df_lift\n",
    "df_disimilarity.fillna(0,inplace=True)\n",
    "df_disimilarity\n",
    "\n",
    "\n",
    "mds=MDS(n_components=2)\n",
    "\n",
    "npos=mds.fit_transform(df_disimilarity)\n",
    "\n",
    "# df_disimilarity.index\n",
    "plt.figure(figsize=(20,8))\n",
    "\n",
    "plt.plot(npos[:,0],npos[:,1],'*')\n",
    "plt.ylim(-1,2)\n",
    "plt.xlim(-1,2)\n",
    "\n",
    "\n",
    "for i in range(len(npos)):\n",
    "  plt.text(npos[i,0],npos[i,1],df_disimilarity.index[i])"
   ]
  },
  {
   "cell_type": "markdown",
   "id": "4e6ab1cf",
   "metadata": {
    "id": "Qw46iZB2byIG"
   },
   "source": [
    "#### Task E\n",
    "- What insights can you offer to your client from your analyses in Tasks C and D "
   ]
  },
  {
   "cell_type": "markdown",
   "id": "bc3d67d6",
   "metadata": {
    "id": "7SI0jY6uGcwC"
   },
   "source": [
    "\n",
    "1. High Association: It can be seen from the Lift Matrix that there is high association between Cadillac and Mercedes-benz, Infiniti and Mercedes Benz, Acura and Infiniti, Cadillac and Infiniti\n",
    "\n",
    "2. Low Association: BMW and Honda, Volkswagen and BMW, BMW and and Hyundai , Acura and Volkswagen\n",
    "\n",
    "3. BMW has relatively less competition. It has low lifts with other brands in the top 10, but highest frequency. This could mean that BMW's competitor brand is not in the top 10. This could also mean people tend to make less comparisons with BMW and simply say more about its performance.\n",
    "\n",
    "4. We basically see 2 clusters being formed.  1 of Non American Brands and 2 all other brands, suprisingly BMW does'nt appear to be falling in any of the clusters\n",
    "\n",
    "5. Mercedes-Benz suprisingly has high lift with premium brands like Infiniti and Cadillac.This can be due to people comparing Benz with other brands."
   ]
  },
  {
   "cell_type": "markdown",
   "id": "5594aed7",
   "metadata": {
    "id": "mtIWGHgDbzfN"
   },
   "source": [
    "#### Task F:\n",
    "- What are 5 most frequently mentioned attributes or features of cars in the discussions?  Which attributes are most strongly associated with which of these 5 brands? You DON’T have to do  a sentiment analysis for this assignment"
   ]
  },
  {
   "cell_type": "code",
   "execution_count": 134,
   "id": "991226eb",
   "metadata": {
    "ExecuteTime": {
     "end_time": "2022-09-13T02:49:27.678093Z",
     "start_time": "2022-09-13T02:49:26.765349Z"
    },
    "colab": {
     "base_uri": "https://localhost:8080/"
    },
    "id": "_2h9jEsRFw-W",
    "outputId": "4549bc08-0851-41b3-b437-baf875055fb8"
   },
   "outputs": [
    {
     "name": "stderr",
     "output_type": "stream",
     "text": [
      "[nltk_data] Downloading package averaged_perceptron_tagger to\n",
      "[nltk_data]     /Users/viswatej/nltk_data...\n",
      "[nltk_data]   Package averaged_perceptron_tagger is already up-to-\n",
      "[nltk_data]       date!\n"
     ]
    }
   ],
   "source": [
    "nltk.download('averaged_perceptron_tagger')\n",
    "\n",
    "temp=set(list(i for i,j in nltk.pos_tag(word_freq.keys()) if 'nn' in j.lower()))\n",
    "df_noun=pd.Series({i:j for i,j in word_freq.items() if i in temp})"
   ]
  },
  {
   "cell_type": "code",
   "execution_count": 135,
   "id": "118cd9a7",
   "metadata": {
    "ExecuteTime": {
     "end_time": "2022-09-13T02:49:27.684341Z",
     "start_time": "2022-09-13T02:49:27.679622Z"
    }
   },
   "outputs": [
    {
     "name": "stdout",
     "output_type": "stream",
     "text": [
      "car\tbmw\tdont\ttime\tdrive\tyears\tacura\tshow\tway\tpeople\tprice\thonda\tdealer\tquotes\tright\ttake\tthats\tlot\tsomething\tmiles\tthing\ttchrysler\tdoesnt\tyear\tmodel\tcant\tperformance\ts4\tpoint\tengine\tlook\tcourse\tluxury\tdidnt\tmoney\tbit\tseat\tcost\tsedan\tlease\ttest\tmarket\tbrand\tproblem\tlooks\tpower\tvolkswagen\tthings\tseries\tisnt\tpremium\tyes\tdealers\tfeel\tanything\tcouple\twork\tinterior\tcadillac\texperience\tbenz\tservice\tdeal\thyundai\tvehicle\tclass\ttoday\tguess\ttransmission\treason\twife\ttires\tbase\thp\tissue\tlove\tsales\troad\tmsrp\tdrove\tmodels\twarranty\twouldnt\tpay\tday\tdays\tpackage\tpart\tnothing\till\tmonths\toption\tfun\tline\ttorque\tissues\tsuspension\tcts\tsell\tvehicles\tltoyota\tfact\tdifference\tothers\tsize\tvalue\toptions\tcase\ttimes\tsystem\ttell\tvs\tats\tyoure\tkind\tversion\twheel\tfolks\twasnt\twheels\tsomeone\tside\tmb\tride\tmonth\tguy\tdealership\tentry\tvolvo\tstart\ttrack\tcompany\tkia\tcare\ttheres\tmpg\tremember\tworld\tbuyers\tauto\tplace\tsound\treliability\torder\tchevrolet\tanyone\tbrands\toil\tc\thavent\n"
     ]
    }
   ],
   "source": [
    "print(*df_noun.sort_values(ascending=False).iloc[:150].index,sep='\\t')"
   ]
  },
  {
   "cell_type": "markdown",
   "id": "b432399b",
   "metadata": {
    "id": "VkhbuCYCF9DM"
   },
   "source": [
    "- **We manually picked top 5 features: performance, luxury, engine, price, power.**"
   ]
  },
  {
   "cell_type": "code",
   "execution_count": 136,
   "id": "fa5dac84",
   "metadata": {
    "ExecuteTime": {
     "end_time": "2022-09-13T02:49:27.688192Z",
     "start_time": "2022-09-13T02:49:27.685420Z"
    },
    "colab": {
     "base_uri": "https://localhost:8080/"
    },
    "id": "WR0hWR57F1s8",
    "outputId": "9e79cd3d-e638-4a1e-df65-1f409ed73a3c"
   },
   "outputs": [
    {
     "data": {
      "text/plain": [
       "array(['price', 'luxury', 'engine', 'performance', 'power'], dtype='<U11')"
      ]
     },
     "execution_count": 136,
     "metadata": {},
     "output_type": "execute_result"
    }
   ],
   "source": [
    "best_5features = np.array(['price', 'luxury', 'engine', 'performance', 'power']) # we can discuss this i feel brand and market can be features, again depends on perspective \n",
    "best_5features"
   ]
  },
  {
   "cell_type": "code",
   "execution_count": 137,
   "id": "14fdefba",
   "metadata": {
    "ExecuteTime": {
     "end_time": "2022-09-13T02:49:28.287094Z",
     "start_time": "2022-09-13T02:49:27.689390Z"
    },
    "colab": {
     "base_uri": "https://localhost:8080/",
     "height": 390
    },
    "id": "YEptYxqvbzo-",
    "outputId": "2e5330c0-8da4-4baa-bcda-ec03302e4b7f"
   },
   "outputs": [
    {
     "data": {
      "text/html": [
       "<div>\n",
       "<style scoped>\n",
       "    .dataframe tbody tr th:only-of-type {\n",
       "        vertical-align: middle;\n",
       "    }\n",
       "\n",
       "    .dataframe tbody tr th {\n",
       "        vertical-align: top;\n",
       "    }\n",
       "\n",
       "    .dataframe thead th {\n",
       "        text-align: right;\n",
       "    }\n",
       "</style>\n",
       "<table border=\"1\" class=\"dataframe\">\n",
       "  <thead>\n",
       "    <tr style=\"text-align: right;\">\n",
       "      <th>Feature</th>\n",
       "      <th>engine</th>\n",
       "      <th>luxury</th>\n",
       "      <th>performance</th>\n",
       "      <th>power</th>\n",
       "      <th>price</th>\n",
       "    </tr>\n",
       "    <tr>\n",
       "      <th>Brand</th>\n",
       "      <th></th>\n",
       "      <th></th>\n",
       "      <th></th>\n",
       "      <th></th>\n",
       "      <th></th>\n",
       "    </tr>\n",
       "  </thead>\n",
       "  <tbody>\n",
       "    <tr>\n",
       "      <th>cadillac</th>\n",
       "      <td>0.750874</td>\n",
       "      <td>3.301562</td>\n",
       "      <td>1.988403</td>\n",
       "      <td>1.042246</td>\n",
       "      <td>2.241291</td>\n",
       "    </tr>\n",
       "    <tr>\n",
       "      <th>mercedes-benz</th>\n",
       "      <td>1.150172</td>\n",
       "      <td>3.058931</td>\n",
       "      <td>2.479402</td>\n",
       "      <td>1.033022</td>\n",
       "      <td>2.312128</td>\n",
       "    </tr>\n",
       "    <tr>\n",
       "      <th>hyundai</th>\n",
       "      <td>1.628157</td>\n",
       "      <td>2.902822</td>\n",
       "      <td>1.529906</td>\n",
       "      <td>1.351059</td>\n",
       "      <td>2.371736</td>\n",
       "    </tr>\n",
       "    <tr>\n",
       "      <th>infiniti</th>\n",
       "      <td>1.725084</td>\n",
       "      <td>2.638305</td>\n",
       "      <td>2.357795</td>\n",
       "      <td>1.297017</td>\n",
       "      <td>1.996637</td>\n",
       "    </tr>\n",
       "    <tr>\n",
       "      <th>acura</th>\n",
       "      <td>1.786823</td>\n",
       "      <td>2.125143</td>\n",
       "      <td>1.899194</td>\n",
       "      <td>1.565365</td>\n",
       "      <td>1.629138</td>\n",
       "    </tr>\n",
       "    <tr>\n",
       "      <th>audi</th>\n",
       "      <td>1.667079</td>\n",
       "      <td>2.092105</td>\n",
       "      <td>2.189702</td>\n",
       "      <td>1.779027</td>\n",
       "      <td>2.065997</td>\n",
       "    </tr>\n",
       "    <tr>\n",
       "      <th>toyota</th>\n",
       "      <td>1.092180</td>\n",
       "      <td>2.081419</td>\n",
       "      <td>1.924261</td>\n",
       "      <td>1.910784</td>\n",
       "      <td>1.921107</td>\n",
       "    </tr>\n",
       "    <tr>\n",
       "      <th>honda</th>\n",
       "      <td>1.717294</td>\n",
       "      <td>1.944539</td>\n",
       "      <td>1.489536</td>\n",
       "      <td>1.344640</td>\n",
       "      <td>1.593315</td>\n",
       "    </tr>\n",
       "    <tr>\n",
       "      <th>bmw</th>\n",
       "      <td>1.521116</td>\n",
       "      <td>1.724541</td>\n",
       "      <td>1.814620</td>\n",
       "      <td>1.800789</td>\n",
       "      <td>1.905596</td>\n",
       "    </tr>\n",
       "    <tr>\n",
       "      <th>volkswagen</th>\n",
       "      <td>1.672401</td>\n",
       "      <td>1.695639</td>\n",
       "      <td>1.515356</td>\n",
       "      <td>1.519942</td>\n",
       "      <td>1.640945</td>\n",
       "    </tr>\n",
       "  </tbody>\n",
       "</table>\n",
       "</div>"
      ],
      "text/plain": [
       "Feature          engine    luxury  performance     power     price\n",
       "Brand                                                             \n",
       "cadillac       0.750874  3.301562     1.988403  1.042246  2.241291\n",
       "mercedes-benz  1.150172  3.058931     2.479402  1.033022  2.312128\n",
       "hyundai        1.628157  2.902822     1.529906  1.351059  2.371736\n",
       "infiniti       1.725084  2.638305     2.357795  1.297017  1.996637\n",
       "acura          1.786823  2.125143     1.899194  1.565365  1.629138\n",
       "audi           1.667079  2.092105     2.189702  1.779027  2.065997\n",
       "toyota         1.092180  2.081419     1.924261  1.910784  1.921107\n",
       "honda          1.717294  1.944539     1.489536  1.344640  1.593315\n",
       "bmw            1.521116  1.724541     1.814620  1.800789  1.905596\n",
       "volkswagen     1.672401  1.695639     1.515356  1.519942  1.640945"
      ]
     },
     "execution_count": 137,
     "metadata": {},
     "output_type": "execute_result"
    }
   ],
   "source": [
    "features_lift = pd.DataFrame(columns = ['Brand', 'Feature', 'Lift'])\n",
    "for i in range(10):\n",
    "    for j in range(5):\n",
    "        top_brands[i]\n",
    "        best_5features[j]\n",
    "        na2 = 0\n",
    "        nb2 = 0\n",
    "        nab2 = 0\n",
    "        for k in webscraped_df['scrapped_model_replaced_brand_words']:\n",
    "            if top_brands[i] in k:\n",
    "                na2 += 1\n",
    "                if best_5features[j] in k:\n",
    "                    nab2 += 1\n",
    "            if best_5features[j] in k:\n",
    "                nb2 += 1\n",
    "        lifts2 = ((nab2 * 5000) / (na2 * nb2))\n",
    "        features_lift.loc[len(features_lift)] = [top_brands[i], best_5features[j], lifts2]\n",
    "features_lift = features_lift.pivot(index='Brand', columns='Feature', values='Lift')\n",
    "features_lift.sort_index(inplace=True)\n",
    "features_lift.sort_values(by=['luxury','price','engine','performance','power'])\n",
    "features_lift.sort_values(by='luxury', ascending=False)"
   ]
  },
  {
   "cell_type": "markdown",
   "id": "e4a879fa",
   "metadata": {
    "id": "4_7RBVSjb3Gx"
   },
   "source": [
    "#### Task G\n",
    "- What advice will you give to your client from Task F? For this assignment, you can assume that all sentiments are positive. "
   ]
  },
  {
   "cell_type": "markdown",
   "id": "adce4238",
   "metadata": {
    "id": "TnoFygxdQbDw"
   },
   "source": [
    "\n",
    "1. Cadillac, Mercedes-Benz and Hyundai have high association with Luxury. Unexpectedly, there is low association between BMW and luxury.\n",
    "\n",
    "2. Mercedes-Benz has high association with price and luxury.\n",
    "\n",
    "3. Lot of brands have low lift with Engine. \n",
    "\n",
    "4. Cadillac has high mentions with Luxury, more than premium brands like Audi, BMW and Mercedes.  \n",
    "\n",
    "5. Luxury seams to be the differentiating factor, Cadillac has the highest lift while volkswagen and BMW  have almost  the lowest. \n",
    "\n",
    "6. Even though the perforamnce of Toyota has the highest lift , surprisingly people don't associate it with Luxury \n",
    "\n",
    "7. Acura has the highest lift with Engine.\n"
   ]
  },
  {
   "cell_type": "markdown",
   "id": "3a77b720",
   "metadata": {
    "id": "UaSyNMrqb_sJ"
   },
   "source": [
    "#### Task H\n",
    "- Which is the most aspirational brand in your data in terms of people actually wanting to buy or own? Describe your analysis. What are the business implications for this brand?\n",
    " "
   ]
  },
  {
   "cell_type": "code",
   "execution_count": 138,
   "id": "e4b0ba4d",
   "metadata": {
    "ExecuteTime": {
     "end_time": "2022-09-13T02:49:28.298539Z",
     "start_time": "2022-09-13T02:49:28.289356Z"
    },
    "id": "cvRVUukOqAEc"
   },
   "outputs": [],
   "source": [
    "aspiration_list=['desire to','desirable','fancy car','eager to buy','would like to buy','love to have','dream car','really want','future car','dream of',\"cant wait to buy\",'would love to buy','wish to buy','want to buy','aspire to','future car','thinking to buy','love to buy','want to own','love to own','like to own','have to own','nice to own','nice to buy','have to buy','would love to buy','would like to buy','wish to own','looking to buy','looking forward to buy',\"next car\", \"winner\", \"favor\", \"prefer\", \"most promise\", \"bang for your buck\", \"bang for buck\", \"go drive\", \n",
    "       \"go for\", \"want\", \"heart\", \"dream\", \"buy\", \"purchase\", \"love\", \"wanted\", \"decided to\", \"desire\",\n",
    "       \"desirable\", \"go with\", \"top of\", \"better value\", \"seriously look\",\n",
    "       'anticipate', 'expect','would like to buy','would love to buy',\n",
    "             'eager to buy','love to have',\n",
    "             'desire to','dream of', 'dream to', 'love to','to own'\n",
    "             'desire','dream','love','want','own']"
   ]
  },
  {
   "cell_type": "code",
   "execution_count": 139,
   "id": "749bb3a6",
   "metadata": {
    "ExecuteTime": {
     "end_time": "2022-09-13T02:49:28.335488Z",
     "start_time": "2022-09-13T02:49:28.332831Z"
    }
   },
   "outputs": [],
   "source": [
    "aspiration_list=np.unique(aspiration_list)"
   ]
  },
  {
   "cell_type": "code",
   "execution_count": 140,
   "id": "6328ad1c",
   "metadata": {
    "ExecuteTime": {
     "end_time": "2022-09-13T02:49:28.340990Z",
     "start_time": "2022-09-13T02:49:28.336618Z"
    },
    "id": "DfhwMpvjyaEh"
   },
   "outputs": [],
   "source": [
    "brand_df['Brand'] = brand_df['brand'].apply(lambda x :x.translate(str.maketrans('', '', string.punctuation)))"
   ]
  },
  {
   "cell_type": "code",
   "execution_count": 141,
   "id": "c2bf7547",
   "metadata": {
    "ExecuteTime": {
     "end_time": "2022-09-13T02:49:46.438777Z",
     "start_time": "2022-09-13T02:49:28.342151Z"
    },
    "id": "1-sRAGm7ycVi"
   },
   "outputs": [],
   "source": [
    "webscraped_df['scrapped_model_replaced_brand_stop_words'] = webscraped_df['scrapped'].apply(model_to_brand)"
   ]
  },
  {
   "cell_type": "code",
   "execution_count": 142,
   "id": "41986c60",
   "metadata": {
    "ExecuteTime": {
     "end_time": "2022-09-13T02:49:46.648683Z",
     "start_time": "2022-09-13T02:49:46.439743Z"
    },
    "id": "UPSCycfHydhG"
   },
   "outputs": [],
   "source": [
    "webscraped_df['aspirational_words'] = webscraped_df['scrapped_model_replaced_brand_stop_words'].apply(aspiration_words)"
   ]
  },
  {
   "cell_type": "code",
   "execution_count": 143,
   "id": "29d75f6f",
   "metadata": {
    "ExecuteTime": {
     "end_time": "2022-09-13T02:49:46.658386Z",
     "start_time": "2022-09-13T02:49:46.649740Z"
    },
    "colab": {
     "base_uri": "https://localhost:8080/",
     "height": 725
    },
    "id": "CiLsYrPVylNz",
    "outputId": "51e9934c-59b4-4b42-b78a-b067bc2dd90f"
   },
   "outputs": [
    {
     "data": {
      "text/html": [
       "<div>\n",
       "<style scoped>\n",
       "    .dataframe tbody tr th:only-of-type {\n",
       "        vertical-align: middle;\n",
       "    }\n",
       "\n",
       "    .dataframe tbody tr th {\n",
       "        vertical-align: top;\n",
       "    }\n",
       "\n",
       "    .dataframe thead th {\n",
       "        text-align: right;\n",
       "    }\n",
       "</style>\n",
       "<table border=\"1\" class=\"dataframe\">\n",
       "  <thead>\n",
       "    <tr style=\"text-align: right;\">\n",
       "      <th></th>\n",
       "      <th>Date</th>\n",
       "      <th>scrapped</th>\n",
       "      <th>scrapped_model_replaced_brand</th>\n",
       "      <th>scrapped_model_replaced_brand_words</th>\n",
       "      <th>scrapped_model_replaced_brand_stop_words</th>\n",
       "      <th>aspirational_words</th>\n",
       "    </tr>\n",
       "  </thead>\n",
       "  <tbody>\n",
       "    <tr>\n",
       "      <th>0</th>\n",
       "      <td>February 25, 2014 6:50PM</td>\n",
       "      <td>you hit the nail on the head you budget for re...</td>\n",
       "      <td>you hit the nail on the head you budget for re...</td>\n",
       "      <td>[picture, big, new, payment, budget, years, tr...</td>\n",
       "      <td>you hit the nail on the head you budget for re...</td>\n",
       "      <td>you hit the nail on the head you budget for re...</td>\n",
       "    </tr>\n",
       "    <tr>\n",
       "      <th>1</th>\n",
       "      <td>February 25, 2014 7:09PM</td>\n",
       "      <td>now that i have inherited my acura tl back a 2...</td>\n",
       "      <td>now that i have inherited my acura tl back a 2...</td>\n",
       "      <td>[end, good, inherited, 174k, notice, last, scr...</td>\n",
       "      <td>now that i have inherited my acura tl back a 2...</td>\n",
       "      <td>now that i have inherited my acura tl back a 2...</td>\n",
       "    </tr>\n",
       "    <tr>\n",
       "      <th>2</th>\n",
       "      <td>February 25, 2014 7:25PM</td>\n",
       "      <td>even with the coil packs you had to replace it...</td>\n",
       "      <td>even with the coil packs you had to replace it...</td>\n",
       "      <td>[large, roadburner, shelling, new, v6, well, c...</td>\n",
       "      <td>even with the coil packs you had to replace it...</td>\n",
       "      <td>even with the coil packs you had to replace it...</td>\n",
       "    </tr>\n",
       "    <tr>\n",
       "      <th>3</th>\n",
       "      <td>February 26, 2014 10:59AM</td>\n",
       "      <td>exactly you have to evaluate all your options ...</td>\n",
       "      <td>exactly you have to evaluate all your options ...</td>\n",
       "      <td>[buy, slightest, malfunction, new, evaluate, w...</td>\n",
       "      <td>exactly you have to evaluate all your options ...</td>\n",
       "      <td>exactly you have to evaluate all your options ...</td>\n",
       "    </tr>\n",
       "    <tr>\n",
       "      <th>4</th>\n",
       "      <td>February 26, 2014 11:14AM</td>\n",
       "      <td>exactly you have to evaluate all your options ...</td>\n",
       "      <td>exactly you have to evaluate all your options ...</td>\n",
       "      <td>[buy, slightest, smells, religiously, thats, r...</td>\n",
       "      <td>exactly you have to evaluate all your options ...</td>\n",
       "      <td>exactly you have to evaluate all your options ...</td>\n",
       "    </tr>\n",
       "    <tr>\n",
       "      <th>...</th>\n",
       "      <td>...</td>\n",
       "      <td>...</td>\n",
       "      <td>...</td>\n",
       "      <td>...</td>\n",
       "      <td>...</td>\n",
       "      <td>...</td>\n",
       "    </tr>\n",
       "    <tr>\n",
       "      <th>4995</th>\n",
       "      <td>February 25, 2020 11:42AM</td>\n",
       "      <td>but the only toyotalexus car i would seriousl...</td>\n",
       "      <td>but the only toyotalexus car i would seriousl...</td>\n",
       "      <td>[supra, also, well, consider, sense, abou, toy...</td>\n",
       "      <td>but the only toyotalexus car i would seriousl...</td>\n",
       "      <td>but the only toyotalexus car i would seriousl...</td>\n",
       "    </tr>\n",
       "    <tr>\n",
       "      <th>4996</th>\n",
       "      <td>February 25, 2020 11:55AM</td>\n",
       "      <td>btw i looked into incentives on stinger up to ...</td>\n",
       "      <td>btw i looked into incentives on stinger up to ...</td>\n",
       "      <td>[great, deal, big, may, lease, thats, incentiv...</td>\n",
       "      <td>btw i looked into incentives on stinger up to ...</td>\n",
       "      <td>btw i looked into incentives on stinger up to ...</td>\n",
       "    </tr>\n",
       "    <tr>\n",
       "      <th>4997</th>\n",
       "      <td>February 25, 2020 11:58AM</td>\n",
       "      <td>btw i looked into incentives on stinger up to...</td>\n",
       "      <td>btw i looked into incentives on stinger up to...</td>\n",
       "      <td>[thats, especially, inflated, 6, levels, real,...</td>\n",
       "      <td>btw i looked into incentives on stinger up to...</td>\n",
       "      <td>btw i looked into incentives on stinger up to...</td>\n",
       "    </tr>\n",
       "    <tr>\n",
       "      <th>4998</th>\n",
       "      <td>February 25, 2020 12:30PM</td>\n",
       "      <td>show previous quotes 12200 lease cash for 24 ...</td>\n",
       "      <td>show previous quotes 12200 lease cash for 24 ...</td>\n",
       "      <td>[deal, terms, awd, lease, thats, 6, levels, in...</td>\n",
       "      <td>show previous quotes 12200 lease cash for 24 ...</td>\n",
       "      <td>show previous quotes 12200 lease cash for 24 ...</td>\n",
       "    </tr>\n",
       "    <tr>\n",
       "      <th>4999</th>\n",
       "      <td>February 25, 2020 12:30PM</td>\n",
       "      <td>wow</td>\n",
       "      <td>wow</td>\n",
       "      <td>[wow]</td>\n",
       "      <td>wow</td>\n",
       "      <td>wow</td>\n",
       "    </tr>\n",
       "  </tbody>\n",
       "</table>\n",
       "<p>5000 rows × 6 columns</p>\n",
       "</div>"
      ],
      "text/plain": [
       "                           Date  \\\n",
       "0      February 25, 2014 6:50PM   \n",
       "1      February 25, 2014 7:09PM   \n",
       "2      February 25, 2014 7:25PM   \n",
       "3     February 26, 2014 10:59AM   \n",
       "4     February 26, 2014 11:14AM   \n",
       "...                         ...   \n",
       "4995  February 25, 2020 11:42AM   \n",
       "4996  February 25, 2020 11:55AM   \n",
       "4997  February 25, 2020 11:58AM   \n",
       "4998  February 25, 2020 12:30PM   \n",
       "4999  February 25, 2020 12:30PM   \n",
       "\n",
       "                                               scrapped  \\\n",
       "0     you hit the nail on the head you budget for re...   \n",
       "1     now that i have inherited my acura tl back a 2...   \n",
       "2     even with the coil packs you had to replace it...   \n",
       "3     exactly you have to evaluate all your options ...   \n",
       "4     exactly you have to evaluate all your options ...   \n",
       "...                                                 ...   \n",
       "4995   but the only toyotalexus car i would seriousl...   \n",
       "4996  btw i looked into incentives on stinger up to ...   \n",
       "4997   btw i looked into incentives on stinger up to...   \n",
       "4998   show previous quotes 12200 lease cash for 24 ...   \n",
       "4999                                                wow   \n",
       "\n",
       "                          scrapped_model_replaced_brand  \\\n",
       "0     you hit the nail on the head you budget for re...   \n",
       "1     now that i have inherited my acura tl back a 2...   \n",
       "2     even with the coil packs you had to replace it...   \n",
       "3     exactly you have to evaluate all your options ...   \n",
       "4     exactly you have to evaluate all your options ...   \n",
       "...                                                 ...   \n",
       "4995   but the only toyotalexus car i would seriousl...   \n",
       "4996  btw i looked into incentives on stinger up to ...   \n",
       "4997   btw i looked into incentives on stinger up to...   \n",
       "4998   show previous quotes 12200 lease cash for 24 ...   \n",
       "4999                                                wow   \n",
       "\n",
       "                    scrapped_model_replaced_brand_words  \\\n",
       "0     [picture, big, new, payment, budget, years, tr...   \n",
       "1     [end, good, inherited, 174k, notice, last, scr...   \n",
       "2     [large, roadburner, shelling, new, v6, well, c...   \n",
       "3     [buy, slightest, malfunction, new, evaluate, w...   \n",
       "4     [buy, slightest, smells, religiously, thats, r...   \n",
       "...                                                 ...   \n",
       "4995  [supra, also, well, consider, sense, abou, toy...   \n",
       "4996  [great, deal, big, may, lease, thats, incentiv...   \n",
       "4997  [thats, especially, inflated, 6, levels, real,...   \n",
       "4998  [deal, terms, awd, lease, thats, 6, levels, in...   \n",
       "4999                                              [wow]   \n",
       "\n",
       "               scrapped_model_replaced_brand_stop_words  \\\n",
       "0     you hit the nail on the head you budget for re...   \n",
       "1     now that i have inherited my acura tl back a 2...   \n",
       "2     even with the coil packs you had to replace it...   \n",
       "3     exactly you have to evaluate all your options ...   \n",
       "4     exactly you have to evaluate all your options ...   \n",
       "...                                                 ...   \n",
       "4995   but the only toyotalexus car i would seriousl...   \n",
       "4996  btw i looked into incentives on stinger up to ...   \n",
       "4997   btw i looked into incentives on stinger up to...   \n",
       "4998   show previous quotes 12200 lease cash for 24 ...   \n",
       "4999                                                wow   \n",
       "\n",
       "                                     aspirational_words  \n",
       "0     you hit the nail on the head you budget for re...  \n",
       "1     now that i have inherited my acura tl back a 2...  \n",
       "2     even with the coil packs you had to replace it...  \n",
       "3     exactly you have to evaluate all your options ...  \n",
       "4     exactly you have to evaluate all your options ...  \n",
       "...                                                 ...  \n",
       "4995   but the only toyotalexus car i would seriousl...  \n",
       "4996  btw i looked into incentives on stinger up to ...  \n",
       "4997   btw i looked into incentives on stinger up to...  \n",
       "4998   show previous quotes 12200 lease cash for 24 ...  \n",
       "4999                                                wow  \n",
       "\n",
       "[5000 rows x 6 columns]"
      ]
     },
     "execution_count": 143,
     "metadata": {},
     "output_type": "execute_result"
    }
   ],
   "source": [
    "webscraped_df"
   ]
  },
  {
   "cell_type": "code",
   "execution_count": 144,
   "id": "3999fba3",
   "metadata": {
    "ExecuteTime": {
     "end_time": "2022-09-13T02:49:46.665918Z",
     "start_time": "2022-09-13T02:49:46.659358Z"
    },
    "id": "dVk9GVkQylh8"
   },
   "outputs": [
    {
     "data": {
      "text/plain": [
       "5000"
      ]
     },
     "execution_count": 144,
     "metadata": {},
     "output_type": "execute_result"
    }
   ],
   "source": [
    "lift_df = pd.DataFrame(columns = ['brand', 'brand_count', 'aspiration_count', 'lift', 'aspiration_percent'])\n",
    "lift_df['brand'] = brand_df['Brand'].unique()\n",
    "overall_aspiration_count = 0\n",
    "for comment in webscraped_df['aspirational_words']:\n",
    "    if 'aspiration' in comment:\n",
    "        overall_aspiration_count += 1\n",
    "n = len(webscraped_df)\n",
    "n"
   ]
  },
  {
   "cell_type": "code",
   "execution_count": 145,
   "id": "f214f5de",
   "metadata": {
    "ExecuteTime": {
     "end_time": "2022-09-13T02:49:46.844736Z",
     "start_time": "2022-09-13T02:49:46.666822Z"
    },
    "id": "r6uZhforyqkc"
   },
   "outputs": [
    {
     "data": {
      "text/html": [
       "<div>\n",
       "<style scoped>\n",
       "    .dataframe tbody tr th:only-of-type {\n",
       "        vertical-align: middle;\n",
       "    }\n",
       "\n",
       "    .dataframe tbody tr th {\n",
       "        vertical-align: top;\n",
       "    }\n",
       "\n",
       "    .dataframe thead th {\n",
       "        text-align: right;\n",
       "    }\n",
       "</style>\n",
       "<table border=\"1\" class=\"dataframe\">\n",
       "  <thead>\n",
       "    <tr style=\"text-align: right;\">\n",
       "      <th></th>\n",
       "      <th>brand</th>\n",
       "      <th>brand_count</th>\n",
       "      <th>aspiration_count</th>\n",
       "      <th>lift</th>\n",
       "      <th>aspiration_percent</th>\n",
       "    </tr>\n",
       "  </thead>\n",
       "  <tbody>\n",
       "    <tr>\n",
       "      <th>0</th>\n",
       "      <td>acura</td>\n",
       "      <td>602</td>\n",
       "      <td>318</td>\n",
       "      <td>NaN</td>\n",
       "      <td>NaN</td>\n",
       "    </tr>\n",
       "    <tr>\n",
       "      <th>1</th>\n",
       "      <td>audi</td>\n",
       "      <td>1092</td>\n",
       "      <td>642</td>\n",
       "      <td>NaN</td>\n",
       "      <td>NaN</td>\n",
       "    </tr>\n",
       "    <tr>\n",
       "      <th>2</th>\n",
       "      <td>bmw</td>\n",
       "      <td>1204</td>\n",
       "      <td>719</td>\n",
       "      <td>NaN</td>\n",
       "      <td>NaN</td>\n",
       "    </tr>\n",
       "    <tr>\n",
       "      <th>3</th>\n",
       "      <td>buick</td>\n",
       "      <td>99</td>\n",
       "      <td>45</td>\n",
       "      <td>NaN</td>\n",
       "      <td>NaN</td>\n",
       "    </tr>\n",
       "    <tr>\n",
       "      <th>4</th>\n",
       "      <td>cadillac</td>\n",
       "      <td>258</td>\n",
       "      <td>151</td>\n",
       "      <td>NaN</td>\n",
       "      <td>NaN</td>\n",
       "    </tr>\n",
       "    <tr>\n",
       "      <th>5</th>\n",
       "      <td>car</td>\n",
       "      <td>2278</td>\n",
       "      <td>1341</td>\n",
       "      <td>NaN</td>\n",
       "      <td>NaN</td>\n",
       "    </tr>\n",
       "    <tr>\n",
       "      <th>6</th>\n",
       "      <td>chevrolet</td>\n",
       "      <td>168</td>\n",
       "      <td>112</td>\n",
       "      <td>NaN</td>\n",
       "      <td>NaN</td>\n",
       "    </tr>\n",
       "    <tr>\n",
       "      <th>7</th>\n",
       "      <td>chrysler</td>\n",
       "      <td>468</td>\n",
       "      <td>239</td>\n",
       "      <td>NaN</td>\n",
       "      <td>NaN</td>\n",
       "    </tr>\n",
       "    <tr>\n",
       "      <th>8</th>\n",
       "      <td>dodge</td>\n",
       "      <td>272</td>\n",
       "      <td>168</td>\n",
       "      <td>NaN</td>\n",
       "      <td>NaN</td>\n",
       "    </tr>\n",
       "    <tr>\n",
       "      <th>9</th>\n",
       "      <td>ford</td>\n",
       "      <td>298</td>\n",
       "      <td>192</td>\n",
       "      <td>NaN</td>\n",
       "      <td>NaN</td>\n",
       "    </tr>\n",
       "    <tr>\n",
       "      <th>10</th>\n",
       "      <td>honda</td>\n",
       "      <td>670</td>\n",
       "      <td>424</td>\n",
       "      <td>NaN</td>\n",
       "      <td>NaN</td>\n",
       "    </tr>\n",
       "    <tr>\n",
       "      <th>11</th>\n",
       "      <td>hyndai kia</td>\n",
       "      <td>6</td>\n",
       "      <td>5</td>\n",
       "      <td>NaN</td>\n",
       "      <td>NaN</td>\n",
       "    </tr>\n",
       "    <tr>\n",
       "      <th>12</th>\n",
       "      <td>hyundai</td>\n",
       "      <td>242</td>\n",
       "      <td>137</td>\n",
       "      <td>NaN</td>\n",
       "      <td>NaN</td>\n",
       "    </tr>\n",
       "    <tr>\n",
       "      <th>13</th>\n",
       "      <td>infiniti</td>\n",
       "      <td>214</td>\n",
       "      <td>130</td>\n",
       "      <td>NaN</td>\n",
       "      <td>NaN</td>\n",
       "    </tr>\n",
       "    <tr>\n",
       "      <th>14</th>\n",
       "      <td>kia</td>\n",
       "      <td>153</td>\n",
       "      <td>81</td>\n",
       "      <td>NaN</td>\n",
       "      <td>NaN</td>\n",
       "    </tr>\n",
       "    <tr>\n",
       "      <th>15</th>\n",
       "      <td>lincoln</td>\n",
       "      <td>88</td>\n",
       "      <td>32</td>\n",
       "      <td>NaN</td>\n",
       "      <td>NaN</td>\n",
       "    </tr>\n",
       "    <tr>\n",
       "      <th>16</th>\n",
       "      <td>mazda</td>\n",
       "      <td>150</td>\n",
       "      <td>89</td>\n",
       "      <td>NaN</td>\n",
       "      <td>NaN</td>\n",
       "    </tr>\n",
       "    <tr>\n",
       "      <th>17</th>\n",
       "      <td>mercedes</td>\n",
       "      <td>238</td>\n",
       "      <td>159</td>\n",
       "      <td>NaN</td>\n",
       "      <td>NaN</td>\n",
       "    </tr>\n",
       "    <tr>\n",
       "      <th>18</th>\n",
       "      <td>mercedes benz</td>\n",
       "      <td>0</td>\n",
       "      <td>0</td>\n",
       "      <td>NaN</td>\n",
       "      <td>NaN</td>\n",
       "    </tr>\n",
       "    <tr>\n",
       "      <th>19</th>\n",
       "      <td>mercedesbenz</td>\n",
       "      <td>0</td>\n",
       "      <td>0</td>\n",
       "      <td>NaN</td>\n",
       "      <td>NaN</td>\n",
       "    </tr>\n",
       "    <tr>\n",
       "      <th>20</th>\n",
       "      <td>mercury</td>\n",
       "      <td>13</td>\n",
       "      <td>10</td>\n",
       "      <td>NaN</td>\n",
       "      <td>NaN</td>\n",
       "    </tr>\n",
       "    <tr>\n",
       "      <th>21</th>\n",
       "      <td>mitsubishi</td>\n",
       "      <td>0</td>\n",
       "      <td>0</td>\n",
       "      <td>NaN</td>\n",
       "      <td>NaN</td>\n",
       "    </tr>\n",
       "    <tr>\n",
       "      <th>22</th>\n",
       "      <td>nissan</td>\n",
       "      <td>110</td>\n",
       "      <td>73</td>\n",
       "      <td>NaN</td>\n",
       "      <td>NaN</td>\n",
       "    </tr>\n",
       "    <tr>\n",
       "      <th>23</th>\n",
       "      <td>pontiac</td>\n",
       "      <td>103</td>\n",
       "      <td>60</td>\n",
       "      <td>NaN</td>\n",
       "      <td>NaN</td>\n",
       "    </tr>\n",
       "    <tr>\n",
       "      <th>24</th>\n",
       "      <td>problem</td>\n",
       "      <td>263</td>\n",
       "      <td>175</td>\n",
       "      <td>NaN</td>\n",
       "      <td>NaN</td>\n",
       "    </tr>\n",
       "    <tr>\n",
       "      <th>25</th>\n",
       "      <td>saturn</td>\n",
       "      <td>20</td>\n",
       "      <td>16</td>\n",
       "      <td>NaN</td>\n",
       "      <td>NaN</td>\n",
       "    </tr>\n",
       "    <tr>\n",
       "      <th>26</th>\n",
       "      <td>seat</td>\n",
       "      <td>305</td>\n",
       "      <td>197</td>\n",
       "      <td>NaN</td>\n",
       "      <td>NaN</td>\n",
       "    </tr>\n",
       "    <tr>\n",
       "      <th>27</th>\n",
       "      <td>sedan</td>\n",
       "      <td>307</td>\n",
       "      <td>167</td>\n",
       "      <td>NaN</td>\n",
       "      <td>NaN</td>\n",
       "    </tr>\n",
       "    <tr>\n",
       "      <th>28</th>\n",
       "      <td>subaru</td>\n",
       "      <td>156</td>\n",
       "      <td>76</td>\n",
       "      <td>NaN</td>\n",
       "      <td>NaN</td>\n",
       "    </tr>\n",
       "    <tr>\n",
       "      <th>29</th>\n",
       "      <td>suzuki</td>\n",
       "      <td>7</td>\n",
       "      <td>6</td>\n",
       "      <td>NaN</td>\n",
       "      <td>NaN</td>\n",
       "    </tr>\n",
       "    <tr>\n",
       "      <th>30</th>\n",
       "      <td>toyata</td>\n",
       "      <td>0</td>\n",
       "      <td>0</td>\n",
       "      <td>NaN</td>\n",
       "      <td>NaN</td>\n",
       "    </tr>\n",
       "    <tr>\n",
       "      <th>31</th>\n",
       "      <td>toyota</td>\n",
       "      <td>1349</td>\n",
       "      <td>809</td>\n",
       "      <td>NaN</td>\n",
       "      <td>NaN</td>\n",
       "    </tr>\n",
       "    <tr>\n",
       "      <th>32</th>\n",
       "      <td>volkswagen</td>\n",
       "      <td>297</td>\n",
       "      <td>172</td>\n",
       "      <td>NaN</td>\n",
       "      <td>NaN</td>\n",
       "    </tr>\n",
       "    <tr>\n",
       "      <th>33</th>\n",
       "      <td>volkwagen</td>\n",
       "      <td>0</td>\n",
       "      <td>0</td>\n",
       "      <td>NaN</td>\n",
       "      <td>NaN</td>\n",
       "    </tr>\n",
       "    <tr>\n",
       "      <th>34</th>\n",
       "      <td>volvo</td>\n",
       "      <td>150</td>\n",
       "      <td>53</td>\n",
       "      <td>NaN</td>\n",
       "      <td>NaN</td>\n",
       "    </tr>\n",
       "  </tbody>\n",
       "</table>\n",
       "</div>"
      ],
      "text/plain": [
       "            brand brand_count aspiration_count lift aspiration_percent\n",
       "0           acura         602              318  NaN                NaN\n",
       "1            audi        1092              642  NaN                NaN\n",
       "2             bmw        1204              719  NaN                NaN\n",
       "3           buick          99               45  NaN                NaN\n",
       "4        cadillac         258              151  NaN                NaN\n",
       "5             car        2278             1341  NaN                NaN\n",
       "6       chevrolet         168              112  NaN                NaN\n",
       "7        chrysler         468              239  NaN                NaN\n",
       "8           dodge         272              168  NaN                NaN\n",
       "9            ford         298              192  NaN                NaN\n",
       "10          honda         670              424  NaN                NaN\n",
       "11     hyndai kia           6                5  NaN                NaN\n",
       "12        hyundai         242              137  NaN                NaN\n",
       "13       infiniti         214              130  NaN                NaN\n",
       "14            kia         153               81  NaN                NaN\n",
       "15        lincoln          88               32  NaN                NaN\n",
       "16          mazda         150               89  NaN                NaN\n",
       "17       mercedes         238              159  NaN                NaN\n",
       "18  mercedes benz           0                0  NaN                NaN\n",
       "19   mercedesbenz           0                0  NaN                NaN\n",
       "20        mercury          13               10  NaN                NaN\n",
       "21     mitsubishi           0                0  NaN                NaN\n",
       "22         nissan         110               73  NaN                NaN\n",
       "23        pontiac         103               60  NaN                NaN\n",
       "24        problem         263              175  NaN                NaN\n",
       "25         saturn          20               16  NaN                NaN\n",
       "26           seat         305              197  NaN                NaN\n",
       "27          sedan         307              167  NaN                NaN\n",
       "28         subaru         156               76  NaN                NaN\n",
       "29         suzuki           7                6  NaN                NaN\n",
       "30         toyata           0                0  NaN                NaN\n",
       "31         toyota        1349              809  NaN                NaN\n",
       "32     volkswagen         297              172  NaN                NaN\n",
       "33      volkwagen           0                0  NaN                NaN\n",
       "34          volvo         150               53  NaN                NaN"
      ]
     },
     "execution_count": 145,
     "metadata": {},
     "output_type": "execute_result"
    }
   ],
   "source": [
    "index = 0\n",
    "for brand in lift_df['brand']:\n",
    "    brand_count = 0\n",
    "    aspiration_count = 0\n",
    "    for comment in webscraped_df['aspirational_words']:\n",
    "        if brand in comment:\n",
    "            brand_count += 1\n",
    "        if 'aspiration' in comment and brand in comment:\n",
    "            aspiration_count += 1\n",
    "        \n",
    "    lift_df['brand_count'][index] = brand_count\n",
    "    lift_df['aspiration_count'][index] = aspiration_count\n",
    "    index += 1\n",
    "lift_df"
   ]
  },
  {
   "cell_type": "code",
   "execution_count": 146,
   "id": "8699c69c",
   "metadata": {
    "ExecuteTime": {
     "end_time": "2022-09-13T02:49:46.855084Z",
     "start_time": "2022-09-13T02:49:46.845785Z"
    },
    "colab": {
     "base_uri": "https://localhost:8080/",
     "height": 359
    },
    "id": "dkBJqL81yyn1",
    "outputId": "1481346d-a59d-4556-f9bf-7e4f866b8293"
   },
   "outputs": [
    {
     "name": "stderr",
     "output_type": "stream",
     "text": [
      "/var/folders/lm/qkcrvy853g79ybtncmbrw98w0000gn/T/ipykernel_27835/3771748235.py:3: SettingWithCopyWarning: \n",
      "A value is trying to be set on a copy of a slice from a DataFrame.\n",
      "Try using .loc[row_indexer,col_indexer] = value instead\n",
      "\n",
      "See the caveats in the documentation: https://pandas.pydata.org/pandas-docs/stable/user_guide/indexing.html#returning-a-view-versus-a-copy\n",
      "  lift_df['aspiration_percent'] = lift_df['aspiration_count']/lift_df['brand_count']\n",
      "/var/folders/lm/qkcrvy853g79ybtncmbrw98w0000gn/T/ipykernel_27835/3771748235.py:4: SettingWithCopyWarning: \n",
      "A value is trying to be set on a copy of a slice from a DataFrame.\n",
      "Try using .loc[row_indexer,col_indexer] = value instead\n",
      "\n",
      "See the caveats in the documentation: https://pandas.pydata.org/pandas-docs/stable/user_guide/indexing.html#returning-a-view-versus-a-copy\n",
      "  lift_df['lift'] = (n*lift_df['aspiration_count'])/(lift_df['brand_count']*overall_aspiration_count)\n"
     ]
    },
    {
     "data": {
      "text/html": [
       "<div>\n",
       "<style scoped>\n",
       "    .dataframe tbody tr th:only-of-type {\n",
       "        vertical-align: middle;\n",
       "    }\n",
       "\n",
       "    .dataframe tbody tr th {\n",
       "        vertical-align: top;\n",
       "    }\n",
       "\n",
       "    .dataframe thead th {\n",
       "        text-align: right;\n",
       "    }\n",
       "</style>\n",
       "<table border=\"1\" class=\"dataframe\">\n",
       "  <thead>\n",
       "    <tr style=\"text-align: right;\">\n",
       "      <th></th>\n",
       "      <th>brand</th>\n",
       "      <th>brand_count</th>\n",
       "      <th>aspiration_count</th>\n",
       "      <th>lift</th>\n",
       "      <th>aspiration_percent</th>\n",
       "    </tr>\n",
       "  </thead>\n",
       "  <tbody>\n",
       "    <tr>\n",
       "      <th>29</th>\n",
       "      <td>suzuki</td>\n",
       "      <td>7</td>\n",
       "      <td>6</td>\n",
       "      <td>2.097755</td>\n",
       "      <td>0.857143</td>\n",
       "    </tr>\n",
       "    <tr>\n",
       "      <th>11</th>\n",
       "      <td>hyndai kia</td>\n",
       "      <td>6</td>\n",
       "      <td>5</td>\n",
       "      <td>2.039484</td>\n",
       "      <td>0.833333</td>\n",
       "    </tr>\n",
       "    <tr>\n",
       "      <th>25</th>\n",
       "      <td>saturn</td>\n",
       "      <td>20</td>\n",
       "      <td>16</td>\n",
       "      <td>1.957905</td>\n",
       "      <td>0.8</td>\n",
       "    </tr>\n",
       "    <tr>\n",
       "      <th>20</th>\n",
       "      <td>mercury</td>\n",
       "      <td>13</td>\n",
       "      <td>10</td>\n",
       "      <td>1.882601</td>\n",
       "      <td>0.769231</td>\n",
       "    </tr>\n",
       "    <tr>\n",
       "      <th>17</th>\n",
       "      <td>mercedes</td>\n",
       "      <td>238</td>\n",
       "      <td>159</td>\n",
       "      <td>1.635015</td>\n",
       "      <td>0.668067</td>\n",
       "    </tr>\n",
       "    <tr>\n",
       "      <th>6</th>\n",
       "      <td>chevrolet</td>\n",
       "      <td>168</td>\n",
       "      <td>112</td>\n",
       "      <td>1.631588</td>\n",
       "      <td>0.666667</td>\n",
       "    </tr>\n",
       "    <tr>\n",
       "      <th>24</th>\n",
       "      <td>problem</td>\n",
       "      <td>263</td>\n",
       "      <td>175</td>\n",
       "      <td>1.628486</td>\n",
       "      <td>0.665399</td>\n",
       "    </tr>\n",
       "    <tr>\n",
       "      <th>22</th>\n",
       "      <td>nissan</td>\n",
       "      <td>110</td>\n",
       "      <td>73</td>\n",
       "      <td>1.624171</td>\n",
       "      <td>0.663636</td>\n",
       "    </tr>\n",
       "    <tr>\n",
       "      <th>26</th>\n",
       "      <td>seat</td>\n",
       "      <td>305</td>\n",
       "      <td>197</td>\n",
       "      <td>1.580768</td>\n",
       "      <td>0.645902</td>\n",
       "    </tr>\n",
       "    <tr>\n",
       "      <th>9</th>\n",
       "      <td>ford</td>\n",
       "      <td>298</td>\n",
       "      <td>192</td>\n",
       "      <td>1.576836</td>\n",
       "      <td>0.644295</td>\n",
       "    </tr>\n",
       "  </tbody>\n",
       "</table>\n",
       "</div>"
      ],
      "text/plain": [
       "         brand brand_count aspiration_count      lift aspiration_percent\n",
       "29      suzuki           7                6  2.097755           0.857143\n",
       "11  hyndai kia           6                5  2.039484           0.833333\n",
       "25      saturn          20               16  1.957905                0.8\n",
       "20     mercury          13               10  1.882601           0.769231\n",
       "17    mercedes         238              159  1.635015           0.668067\n",
       "6    chevrolet         168              112  1.631588           0.666667\n",
       "24     problem         263              175  1.628486           0.665399\n",
       "22      nissan         110               73  1.624171           0.663636\n",
       "26        seat         305              197  1.580768           0.645902\n",
       "9         ford         298              192  1.576836           0.644295"
      ]
     },
     "execution_count": 146,
     "metadata": {},
     "output_type": "execute_result"
    }
   ],
   "source": [
    "lift_df=lift_df[(lift_df['brand_count'] != 0)]\n",
    "lift_df\n",
    "lift_df['aspiration_percent'] = lift_df['aspiration_count']/lift_df['brand_count']\n",
    "lift_df['lift'] = (n*lift_df['aspiration_count'])/(lift_df['brand_count']*overall_aspiration_count)\n",
    "lift_df.sort_values(by = 'lift', ascending = False)[:10]"
   ]
  },
  {
   "cell_type": "code",
   "execution_count": 147,
   "id": "c117be2c",
   "metadata": {
    "ExecuteTime": {
     "end_time": "2022-09-13T02:49:46.916442Z",
     "start_time": "2022-09-13T02:49:46.856227Z"
    },
    "colab": {
     "base_uri": "https://localhost:8080/",
     "height": 359
    },
    "id": "m7YtjbN1-uQa",
    "outputId": "c05711a7-3649-4173-feba-f5aa1aa71a8a"
   },
   "outputs": [
    {
     "data": {
      "text/html": [
       "<div>\n",
       "<style scoped>\n",
       "    .dataframe tbody tr th:only-of-type {\n",
       "        vertical-align: middle;\n",
       "    }\n",
       "\n",
       "    .dataframe tbody tr th {\n",
       "        vertical-align: top;\n",
       "    }\n",
       "\n",
       "    .dataframe thead th {\n",
       "        text-align: right;\n",
       "    }\n",
       "</style>\n",
       "<table border=\"1\" class=\"dataframe\">\n",
       "  <thead>\n",
       "    <tr style=\"text-align: right;\">\n",
       "      <th></th>\n",
       "      <th>brand</th>\n",
       "      <th>brand_count</th>\n",
       "      <th>aspiration_count</th>\n",
       "      <th>lift</th>\n",
       "      <th>aspiration_percent</th>\n",
       "    </tr>\n",
       "  </thead>\n",
       "  <tbody>\n",
       "    <tr>\n",
       "      <th>5</th>\n",
       "      <td>mercedes</td>\n",
       "      <td>238</td>\n",
       "      <td>159</td>\n",
       "      <td>1.635015</td>\n",
       "      <td>0.668067</td>\n",
       "    </tr>\n",
       "    <tr>\n",
       "      <th>3</th>\n",
       "      <td>honda</td>\n",
       "      <td>670</td>\n",
       "      <td>424</td>\n",
       "      <td>1.548791</td>\n",
       "      <td>0.632836</td>\n",
       "    </tr>\n",
       "    <tr>\n",
       "      <th>9</th>\n",
       "      <td>infiniti</td>\n",
       "      <td>214</td>\n",
       "      <td>130</td>\n",
       "      <td>1.486727</td>\n",
       "      <td>0.607477</td>\n",
       "    </tr>\n",
       "    <tr>\n",
       "      <th>6</th>\n",
       "      <td>toyota</td>\n",
       "      <td>1349</td>\n",
       "      <td>809</td>\n",
       "      <td>1.467703</td>\n",
       "      <td>0.599703</td>\n",
       "    </tr>\n",
       "    <tr>\n",
       "      <th>0</th>\n",
       "      <td>bmw</td>\n",
       "      <td>1204</td>\n",
       "      <td>719</td>\n",
       "      <td>1.461518</td>\n",
       "      <td>0.597176</td>\n",
       "    </tr>\n",
       "    <tr>\n",
       "      <th>1</th>\n",
       "      <td>audi</td>\n",
       "      <td>1092</td>\n",
       "      <td>642</td>\n",
       "      <td>1.438845</td>\n",
       "      <td>0.587912</td>\n",
       "    </tr>\n",
       "    <tr>\n",
       "      <th>7</th>\n",
       "      <td>cadillac</td>\n",
       "      <td>258</td>\n",
       "      <td>151</td>\n",
       "      <td>1.432382</td>\n",
       "      <td>0.585271</td>\n",
       "    </tr>\n",
       "    <tr>\n",
       "      <th>4</th>\n",
       "      <td>volkswagen</td>\n",
       "      <td>297</td>\n",
       "      <td>172</td>\n",
       "      <td>1.417339</td>\n",
       "      <td>0.579125</td>\n",
       "    </tr>\n",
       "    <tr>\n",
       "      <th>8</th>\n",
       "      <td>hyundai</td>\n",
       "      <td>242</td>\n",
       "      <td>137</td>\n",
       "      <td>1.385501</td>\n",
       "      <td>0.566116</td>\n",
       "    </tr>\n",
       "    <tr>\n",
       "      <th>2</th>\n",
       "      <td>acura</td>\n",
       "      <td>602</td>\n",
       "      <td>318</td>\n",
       "      <td>1.292803</td>\n",
       "      <td>0.528239</td>\n",
       "    </tr>\n",
       "  </tbody>\n",
       "</table>\n",
       "</div>"
      ],
      "text/plain": [
       "        brand brand_count aspiration_count      lift aspiration_percent\n",
       "5    mercedes         238              159  1.635015           0.668067\n",
       "3       honda         670              424  1.548791           0.632836\n",
       "9    infiniti         214              130  1.486727           0.607477\n",
       "6      toyota        1349              809  1.467703           0.599703\n",
       "0         bmw        1204              719  1.461518           0.597176\n",
       "1        audi        1092              642  1.438845           0.587912\n",
       "7    cadillac         258              151  1.432382           0.585271\n",
       "4  volkswagen         297              172  1.417339           0.579125\n",
       "8     hyundai         242              137  1.385501           0.566116\n",
       "2       acura         602              318  1.292803           0.528239"
      ]
     },
     "execution_count": 147,
     "metadata": {},
     "output_type": "execute_result"
    }
   ],
   "source": [
    "lift_df = pd.DataFrame(columns = ['brand', 'brand_count', 'aspiration_count', 'lift', 'aspiration_percent'])\n",
    "lift_df['brand'] = top_brands\n",
    "lift_df['brand'].replace('mercedes-benz', 'mercedes', inplace = True)\n",
    "\n",
    "overall_aspiration_count = 0\n",
    "for comment in webscraped_df['aspirational_words']:\n",
    "    if 'aspiration' in comment:\n",
    "        overall_aspiration_count += 1\n",
    "n = len(webscraped_df)\n",
    "\n",
    "index = 0\n",
    "for brand in lift_df['brand']:\n",
    "    brand_count = 0\n",
    "    aspiration_count = 0\n",
    "    for comment in webscraped_df['aspirational_words']:\n",
    "        if brand in comment:\n",
    "            brand_count += 1\n",
    "        if 'aspiration' in comment and brand in comment:\n",
    "            aspiration_count += 1\n",
    "        \n",
    "    lift_df['brand_count'][index] = brand_count\n",
    "    lift_df['aspiration_count'][index] = aspiration_count\n",
    "    index += 1\n",
    "lift_df\n",
    "lift_df['aspiration_percent'] = lift_df['aspiration_count']/lift_df['brand_count']\n",
    "lift_df['lift'] = (n*lift_df['aspiration_count'])/(lift_df['brand_count']*overall_aspiration_count)\n",
    "lift_df.sort_values(by = 'lift', ascending = False)"
   ]
  },
  {
   "cell_type": "markdown",
   "id": "744b0971",
   "metadata": {
    "id": "pEM7Vo6FAQ53"
   },
   "source": [
    "For Aspiration, we took all the terms we could think of ,that represent a person desiring to buy an automobile. Then we changed all of the sentences in the comments to Aspire and used lift between the words \"Aspire\" and Brands to determine which brands people were most interested in purchasing.\n",
    "\n",
    "\n",
    "\n",
    "1. Mercedes, Honda are the brands people want to buy the most, which are highly associated with luxury as per our analysis \n",
    "\n",
    "2. Acura should be concerned as not many people want to buy this brand.  \n",
    "\n",
    "3. Non American brands like Honda,Toyota surprisingly have better aspirational values compared to a few premium American brands like BMW, Audi.\n",
    "\n",
    "4. Although Cadillac and Hyundai have high lift with Luxury their aspiration is low indicating that there may be a negetive relation to luxury."
   ]
  }
 ],
 "metadata": {
  "kernelspec": {
   "display_name": "Python 3 (ipykernel)",
   "language": "python",
   "name": "python3"
  },
  "language_info": {
   "codemirror_mode": {
    "name": "ipython",
    "version": 3
   },
   "file_extension": ".py",
   "mimetype": "text/x-python",
   "name": "python",
   "nbconvert_exporter": "python",
   "pygments_lexer": "ipython3",
   "version": "3.9.12"
  }
 },
 "nbformat": 4,
 "nbformat_minor": 5
}
